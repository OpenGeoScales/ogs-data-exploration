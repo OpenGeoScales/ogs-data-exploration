{
 "cells": [
  {
   "cell_type": "code",
   "execution_count": 1,
   "metadata": {},
   "outputs": [],
   "source": [
    "import pandas as pd\n",
    "import numpy as np"
   ]
  },
  {
   "cell_type": "code",
   "execution_count": 2,
   "metadata": {},
   "outputs": [],
   "source": [
    "# Load oecd data from github repository\n",
    "\n",
    "url = \"https://raw.githubusercontent.com/OpenGeoScales/ogs-data-exploration/oecd/data/ghg-emissions/oecd/raw/AIR_GHG_07042021221914030.csv\"\n",
    "df = pd.read_csv(url)"
   ]
  },
  {
   "cell_type": "code",
   "execution_count": 3,
   "metadata": {},
   "outputs": [],
   "source": [
    "# Set the dataframe structure\n",
    "df.sort_values([\"Year\",\"Country\"],inplace=True)\n",
    "df.set_index([\"Year\",\"Country\"],inplace=True)"
   ]
  },
  {
   "cell_type": "code",
   "execution_count": 4,
   "metadata": {},
   "outputs": [],
   "source": [
    "# Define the range of years, countries and sectors from the data that we will map.\n",
    "list_years = df.index.get_level_values(0).unique()\n",
    "list_country = df.index.get_level_values(1).unique()\n",
    "list_sectors=[\"Total  emissions excluding LULUCF\",\n",
    "              \"Total  emissions including LULUCF\",\n",
    "              \"1 - Energy\",\n",
    "              \"1A4 - Residential and other sectors\",\n",
    "              \"1A1 - Energy Industries\",\n",
    "              \"1B - Fugitive Emissions from Fuels\",\n",
    "              \"1A2 - Manufacturing industries and construction\",\n",
    "              \"1A5 - Energy - Other\",\n",
    "              \"1A3 - Transport\",\n",
    "              \"1C - CO2 from Transport and Storage\",\n",
    "              \"2- Industrial processes and product use\",\n",
    "              \"3 - Agriculture\",\n",
    "              \"Land use, land-use change and forestry (LULUCF)\",\n",
    "              \"5 - Waste\",\n",
    "              \"6 - Other\"]"
   ]
  },
  {
   "cell_type": "code",
   "execution_count": 5,
   "metadata": {},
   "outputs": [],
   "source": [
    "# Mapping sector\n",
    "mapped_sectors={}\n",
    "mapped_sectors[\"Total  emissions excluding LULUCF\"]=\"total_excluding_LUCF\"\n",
    "mapped_sectors[\"Total  emissions including LULUCF\"]=\"total_including_LUCF\"\n",
    "mapped_sectors[\"1 - Energy\"]=\"total_energy\"\n",
    "mapped_sectors[\"1A4 - Residential and other sectors\"]=\"building\"\n",
    "mapped_sectors[\"1A1 - Energy Industries\"]=\"electricity_heat\"\n",
    "mapped_sectors[\"1B - Fugitive Emissions from Fuels\"]=\"fugitive_emissions\"\n",
    "mapped_sectors[\"1A2 - Manufacturing industries and construction\"]=\"manufacturing_construction\"\n",
    "mapped_sectors[\"1A5 - Energy - Other\"]=\"other_fuel_combustion\"\n",
    "mapped_sectors[\"1A3 - Transport\"]=\"total_excluding_LUCF\"\n",
    "mapped_sectors[\"1C - CO2 from Transport and Storage\"]=\"transportation\"\n",
    "mapped_sectors[\"2- Industrial processes and product use\"]=\"industrial_processes\"\n",
    "mapped_sectors[\"3 - Agriculture\"]=\"agriculture\"\n",
    "mapped_sectors[\"Land use, land-use change and forestry (LULUCF)\"]=\"lucf\"\n",
    "mapped_sectors[\"5 - Waste\"]=\"waste\"\n",
    "mapped_sectors[\"6 - Other\"]=\"other\""
   ]
  },
  {
   "cell_type": "code",
   "execution_count": 6,
   "metadata": {},
   "outputs": [],
   "source": [
    "# Mapping gas name\n",
    "mapped_gas={}"
   ]
  }
 ],
 "metadata": {
  "kernelspec": {
   "display_name": "Python 3",
   "language": "python",
   "name": "python3"
  },
  "language_info": {
   "codemirror_mode": {
    "name": "ipython",
    "version": 3
   },
   "file_extension": ".py",
   "mimetype": "text/x-python",
   "name": "python",
   "nbconvert_exporter": "python",
   "pygments_lexer": "ipython3",
   "version": "3.8.5"
  }
 },
 "nbformat": 4,
 "nbformat_minor": 4
}
