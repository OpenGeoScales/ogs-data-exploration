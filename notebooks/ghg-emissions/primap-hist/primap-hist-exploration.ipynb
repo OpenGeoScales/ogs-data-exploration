{
 "cells": [
  {
   "cell_type": "markdown",
   "metadata": {},
   "source": [
    "# Introduction\n",
    "\n",
    "This notebook introduces the PRIMAP-hist datasets exploration whose the links are available on our **[github repository](https://github.com/OpenGeoScales/ogs-data-exploration/tree/main/data/ghg-emissions/primap-hist)**. \n",
    "\n",
    "These datasets combine several published datasets and are provided by the Potsdam Institute for Climate Impact Research (PIK).\n",
    "\n",
    "They provide a set of emissions pathways for each country and Kyoto Gas (GHG) from 1850 to 2018.\n",
    "\n",
    "Here are the differents datasets from the last version (2.2) of February 2021:\n",
    "- PRIMAP-hist_v2.2_19-Jan-2021.csv contains the numerical extrapolations of all time series to 2018\n",
    "- PRIMAP-hist_v2.2_no_extrapolation_19-Jan-2021.csv has no numerical extrapolations of missing values and does not include the country groups \"EARTH\", \"ANNEXI\", \"NONANNEXI\", \"AOSIS\", \"BASIC\", \"EU28\", \"LDC\", \"UMBRELLA\"\n",
    "\n",
    "Given that the first dataset contains no missing values thanks to the numerical extrapolations. The exploration below is focused on this dataset."
   ]
  },
  {
   "cell_type": "markdown",
   "metadata": {},
   "source": [
    "# Libraries importations and datasets loading"
   ]
  },
  {
   "cell_type": "code",
   "execution_count": 3,
   "metadata": {},
   "outputs": [],
   "source": [
    "import os\n",
    "\n",
    "import numpy as np\n",
    "import pandas as pd\n",
    "\n",
    "%matplotlib inline\n",
    "import matplotlib.pyplot as plt\n",
    "import seaborn as sns"
   ]
  },
  {
   "cell_type": "code",
   "execution_count": 4,
   "metadata": {},
   "outputs": [],
   "source": [
    "folder = \"../../../../PRIMAP-hist_v2.2/\"\n",
    "dataset_name = \"PRIMAP-hist_v2.2_19-Jan-2021.csv\"\n",
    "primap_hist_data = pd.read_csv(folder+dataset_name)"
   ]
  },
  {
   "cell_type": "code",
   "execution_count": 5,
   "metadata": {},
   "outputs": [
    {
     "name": "stdout",
     "output_type": "stream",
     "text": [
      "<class 'pandas.core.frame.DataFrame'>\n",
      "RangeIndex: 28622 entries, 0 to 28621\n",
      "Columns: 174 entries, scenario to 2018\n",
      "dtypes: float64(169), object(5)\n",
      "memory usage: 38.0+ MB\n"
     ]
    }
   ],
   "source": [
    "primap_hist_data.info()"
   ]
  },
  {
   "cell_type": "code",
   "execution_count": 6,
   "metadata": {},
   "outputs": [
    {
     "data": {
      "text/html": [
       "<div>\n",
       "<style scoped>\n",
       "    .dataframe tbody tr th:only-of-type {\n",
       "        vertical-align: middle;\n",
       "    }\n",
       "\n",
       "    .dataframe tbody tr th {\n",
       "        vertical-align: top;\n",
       "    }\n",
       "\n",
       "    .dataframe thead th {\n",
       "        text-align: right;\n",
       "    }\n",
       "</style>\n",
       "<table border=\"1\" class=\"dataframe\">\n",
       "  <thead>\n",
       "    <tr style=\"text-align: right;\">\n",
       "      <th></th>\n",
       "      <th>scenario</th>\n",
       "      <th>country</th>\n",
       "      <th>category</th>\n",
       "      <th>entity</th>\n",
       "      <th>unit</th>\n",
       "      <th>1850</th>\n",
       "      <th>1851</th>\n",
       "      <th>1852</th>\n",
       "      <th>1853</th>\n",
       "      <th>1854</th>\n",
       "      <th>...</th>\n",
       "      <th>2009</th>\n",
       "      <th>2010</th>\n",
       "      <th>2011</th>\n",
       "      <th>2012</th>\n",
       "      <th>2013</th>\n",
       "      <th>2014</th>\n",
       "      <th>2015</th>\n",
       "      <th>2016</th>\n",
       "      <th>2017</th>\n",
       "      <th>2018</th>\n",
       "    </tr>\n",
       "  </thead>\n",
       "  <tbody>\n",
       "    <tr>\n",
       "      <th>0</th>\n",
       "      <td>HISTCR</td>\n",
       "      <td>ABW</td>\n",
       "      <td>IPC1A</td>\n",
       "      <td>CH4</td>\n",
       "      <td>Gg</td>\n",
       "      <td>0.000153</td>\n",
       "      <td>0.000158</td>\n",
       "      <td>0.000164</td>\n",
       "      <td>0.000169</td>\n",
       "      <td>0.000174</td>\n",
       "      <td>...</td>\n",
       "      <td>0.03550</td>\n",
       "      <td>0.0385</td>\n",
       "      <td>0.03170</td>\n",
       "      <td>0.05170</td>\n",
       "      <td>0.06840</td>\n",
       "      <td>0.05940</td>\n",
       "      <td>0.05950</td>\n",
       "      <td>0.05390</td>\n",
       "      <td>0.05520</td>\n",
       "      <td>0.0565</td>\n",
       "    </tr>\n",
       "    <tr>\n",
       "      <th>1</th>\n",
       "      <td>HISTCR</td>\n",
       "      <td>AFG</td>\n",
       "      <td>IPC1A</td>\n",
       "      <td>CH4</td>\n",
       "      <td>Gg</td>\n",
       "      <td>0.023700</td>\n",
       "      <td>0.023800</td>\n",
       "      <td>0.023900</td>\n",
       "      <td>0.024100</td>\n",
       "      <td>0.024200</td>\n",
       "      <td>...</td>\n",
       "      <td>4.07000</td>\n",
       "      <td>4.4900</td>\n",
       "      <td>5.22000</td>\n",
       "      <td>7.82000</td>\n",
       "      <td>11.70000</td>\n",
       "      <td>5.42000</td>\n",
       "      <td>5.38000</td>\n",
       "      <td>7.59000</td>\n",
       "      <td>7.96000</td>\n",
       "      <td>8.3300</td>\n",
       "    </tr>\n",
       "    <tr>\n",
       "      <th>2</th>\n",
       "      <td>HISTCR</td>\n",
       "      <td>AGO</td>\n",
       "      <td>IPC1A</td>\n",
       "      <td>CH4</td>\n",
       "      <td>Gg</td>\n",
       "      <td>1.750000</td>\n",
       "      <td>1.770000</td>\n",
       "      <td>1.800000</td>\n",
       "      <td>1.820000</td>\n",
       "      <td>1.840000</td>\n",
       "      <td>...</td>\n",
       "      <td>57.70000</td>\n",
       "      <td>59.1000</td>\n",
       "      <td>60.50000</td>\n",
       "      <td>61.70000</td>\n",
       "      <td>63.00000</td>\n",
       "      <td>64.30000</td>\n",
       "      <td>65.60000</td>\n",
       "      <td>66.90000</td>\n",
       "      <td>68.30000</td>\n",
       "      <td>69.6000</td>\n",
       "    </tr>\n",
       "    <tr>\n",
       "      <th>3</th>\n",
       "      <td>HISTCR</td>\n",
       "      <td>AIA</td>\n",
       "      <td>IPC1A</td>\n",
       "      <td>CH4</td>\n",
       "      <td>Gg</td>\n",
       "      <td>0.000010</td>\n",
       "      <td>0.000010</td>\n",
       "      <td>0.000010</td>\n",
       "      <td>0.000010</td>\n",
       "      <td>0.000010</td>\n",
       "      <td>...</td>\n",
       "      <td>0.00205</td>\n",
       "      <td>0.0024</td>\n",
       "      <td>0.00256</td>\n",
       "      <td>0.00256</td>\n",
       "      <td>0.00275</td>\n",
       "      <td>0.00275</td>\n",
       "      <td>0.00276</td>\n",
       "      <td>0.00286</td>\n",
       "      <td>0.00298</td>\n",
       "      <td>0.0031</td>\n",
       "    </tr>\n",
       "    <tr>\n",
       "      <th>4</th>\n",
       "      <td>HISTCR</td>\n",
       "      <td>ALB</td>\n",
       "      <td>IPC1A</td>\n",
       "      <td>CH4</td>\n",
       "      <td>Gg</td>\n",
       "      <td>0.060200</td>\n",
       "      <td>0.060600</td>\n",
       "      <td>0.061500</td>\n",
       "      <td>0.063100</td>\n",
       "      <td>0.065200</td>\n",
       "      <td>...</td>\n",
       "      <td>5.14000</td>\n",
       "      <td>5.0400</td>\n",
       "      <td>4.98000</td>\n",
       "      <td>4.87000</td>\n",
       "      <td>4.79000</td>\n",
       "      <td>4.66000</td>\n",
       "      <td>4.89000</td>\n",
       "      <td>5.00000</td>\n",
       "      <td>5.02000</td>\n",
       "      <td>5.0400</td>\n",
       "    </tr>\n",
       "  </tbody>\n",
       "</table>\n",
       "<p>5 rows × 174 columns</p>\n",
       "</div>"
      ],
      "text/plain": [
       "  scenario country category entity unit      1850      1851      1852  \\\n",
       "0   HISTCR     ABW    IPC1A    CH4   Gg  0.000153  0.000158  0.000164   \n",
       "1   HISTCR     AFG    IPC1A    CH4   Gg  0.023700  0.023800  0.023900   \n",
       "2   HISTCR     AGO    IPC1A    CH4   Gg  1.750000  1.770000  1.800000   \n",
       "3   HISTCR     AIA    IPC1A    CH4   Gg  0.000010  0.000010  0.000010   \n",
       "4   HISTCR     ALB    IPC1A    CH4   Gg  0.060200  0.060600  0.061500   \n",
       "\n",
       "       1853      1854  ...      2009     2010      2011      2012      2013  \\\n",
       "0  0.000169  0.000174  ...   0.03550   0.0385   0.03170   0.05170   0.06840   \n",
       "1  0.024100  0.024200  ...   4.07000   4.4900   5.22000   7.82000  11.70000   \n",
       "2  1.820000  1.840000  ...  57.70000  59.1000  60.50000  61.70000  63.00000   \n",
       "3  0.000010  0.000010  ...   0.00205   0.0024   0.00256   0.00256   0.00275   \n",
       "4  0.063100  0.065200  ...   5.14000   5.0400   4.98000   4.87000   4.79000   \n",
       "\n",
       "       2014      2015      2016      2017     2018  \n",
       "0   0.05940   0.05950   0.05390   0.05520   0.0565  \n",
       "1   5.42000   5.38000   7.59000   7.96000   8.3300  \n",
       "2  64.30000  65.60000  66.90000  68.30000  69.6000  \n",
       "3   0.00275   0.00276   0.00286   0.00298   0.0031  \n",
       "4   4.66000   4.89000   5.00000   5.02000   5.0400  \n",
       "\n",
       "[5 rows x 174 columns]"
      ]
     },
     "execution_count": 6,
     "metadata": {},
     "output_type": "execute_result"
    }
   ],
   "source": [
    "primap_hist_data.head()"
   ]
  },
  {
   "cell_type": "markdown",
   "metadata": {},
   "source": [
    "# Variables and their description\n",
    "\n",
    "The variables description that follows can be found **[here](https://zenodo.org/record/4479172#data-format-description-columns)**.\n",
    "\n",
    "## Scenario\n",
    "\n",
    "- HISTCR: in this scenario country-reported data (CRF, BUR, UNFCCC) is prioritized over third-party data (CDIAC, FAO, Andrew, EDGAR, BP).\n",
    "- HISTTP: in this scenario third-party data (CDIAC, FAO, Andrew, EDGAR, BP) is prioritized over country-reported data (CRF, BUR, UNFCCC).\n",
    "\n",
    "CRF, BUR, UNFCCC, CDIAC, FAO, Andrew, EDGAR and BP represent the data sources of the PIK dataset.\n",
    "\n",
    "*How are the data prioritized over the others?*\n",
    "\n",
    "In the article, it says that the highest priority datasets are the country reported data (UNFCCC). But if the data aren't available or don't meet the minimal requirements, then it uses country reported data provided by third-party sources such as reseach institutions or international organizations.\n",
    "I haven't found how the scenarios are built and how the priorization is made.\n",
    "\n",
    "*Does the priorization mean that the data are used from one category and not the other?*\n",
    "*For all the years of a time serie? Or just some of them?*\n",
    "\n",
    "I don't know. **For the two last questions, some exploration can be made to answer it.**"
   ]
  },
  {
   "cell_type": "code",
   "execution_count": 13,
   "metadata": {},
   "outputs": [
    {
     "data": {
      "text/plain": [
       "HISTTP    14311\n",
       "HISTCR    14311\n",
       "Name: scenario, dtype: int64"
      ]
     },
     "execution_count": 13,
     "metadata": {},
     "output_type": "execute_result"
    }
   ],
   "source": [
    "primap_hist_data.scenario.value_counts()"
   ]
  },
  {
   "cell_type": "markdown",
   "metadata": {},
   "source": [
    "There are the same numbers of emission pathways (or time series) in each scenario."
   ]
  },
  {
   "cell_type": "markdown",
   "metadata": {},
   "source": [
    "## Country\n",
    "\n",
    "207 ISO 3166 three-letter country codes or 8 custom codes for groups"
   ]
  },
  {
   "cell_type": "code",
   "execution_count": 14,
   "metadata": {},
   "outputs": [
    {
     "data": {
      "text/plain": [
       "array(['ABW', 'AFG', 'AGO', 'AIA', 'ALB', 'AND', 'ANNEXI', 'ANT', 'AOSIS',\n",
       "       'ARE', 'ARG', 'ARM', 'ATG', 'AUS', 'AUT', 'AZE', 'BASIC', 'BDI',\n",
       "       'BEL', 'BEN', 'BFA', 'BGD', 'BGR', 'BHR', 'BHS', 'BIH', 'BLR',\n",
       "       'BLZ', 'BOL', 'BRA', 'BRB', 'BRN', 'BTN', 'BWA', 'CAF', 'CAN',\n",
       "       'CHE', 'CHL', 'CHN', 'CIV', 'CMR', 'COD', 'COG', 'COK', 'COL',\n",
       "       'COM', 'CPV', 'CRI', 'CUB', 'CYP', 'CZE', 'DEU', 'DJI', 'DMA',\n",
       "       'DNK', 'DOM', 'DZA', 'EARTH', 'ECU', 'EGY', 'ERI', 'ESP', 'EST',\n",
       "       'ETH', 'EU28', 'FIN', 'FJI', 'FRA', 'GAB', 'GBR', 'GEO', 'GHA',\n",
       "       'GIN', 'GMB', 'GNB', 'GNQ', 'GRC', 'GRD', 'GTM', 'GUY', 'HKG',\n",
       "       'HND', 'HRV', 'HTI', 'HUN', 'IDN', 'IND', 'IRL', 'IRN', 'IRQ',\n",
       "       'ISL', 'ISR', 'ITA', 'JAM', 'JOR', 'JPN', 'KAZ', 'KEN', 'KGZ',\n",
       "       'KHM', 'KIR', 'KNA', 'KOR', 'KWT', 'LAO', 'LBN', 'LBR', 'LBY',\n",
       "       'LCA', 'LDC', 'LIE', 'LKA', 'LSO', 'LTU', 'LUX', 'LVA', 'MAC',\n",
       "       'MAR', 'MCO', 'MDA', 'MDG', 'MDV', 'MEX', 'MHL', 'MKD', 'MLI',\n",
       "       'MLT', 'MMR', 'MNE', 'MNG', 'MOZ', 'MRT', 'MUS', 'MWI', 'MYS',\n",
       "       'NAM', 'NER', 'NGA', 'NIC', 'NIU', 'NLD', 'NONANNEXI', 'NOR',\n",
       "       'NPL', 'NRU', 'NZL', 'OMN', 'PAK', 'PAN', 'PER', 'PHL', 'PLW',\n",
       "       'PNG', 'POL', 'PRK', 'PRT', 'PRY', 'QAT', 'ROU', 'RUS', 'RWA',\n",
       "       'SAU', 'SDN', 'SEN', 'SGP', 'SHN', 'SLB', 'SLE', 'SLV', 'SMR',\n",
       "       'SOM', 'SRB', 'SSD', 'STP', 'SUR', 'SVK', 'SVN', 'SWE', 'SWZ',\n",
       "       'SYC', 'SYR', 'TCA', 'TCD', 'TGO', 'THA', 'TJK', 'TKM', 'TLS',\n",
       "       'TON', 'TTO', 'TUN', 'TUR', 'TWN', 'TZA', 'UGA', 'UKR', 'UMBRELLA',\n",
       "       'URY', 'USA', 'UZB', 'VAT', 'VCT', 'VEN', 'VGB', 'VNM', 'VUT',\n",
       "       'WSM', 'YEM', 'ZAF', 'ZMB', 'ZWE', 'FSM', 'TKL', 'TUV', 'ATA'],\n",
       "      dtype=object)"
      ]
     },
     "execution_count": 14,
     "metadata": {},
     "output_type": "execute_result"
    }
   ],
   "source": [
    "primap_hist_data.country.unique()"
   ]
  },
  {
   "cell_type": "markdown",
   "metadata": {},
   "source": [
    "See the **[source](https://zenodo.org/record/4479172#data-format-description-columns)** for more details about the additional custom codes for country groups."
   ]
  },
  {
   "cell_type": "code",
   "execution_count": 15,
   "metadata": {},
   "outputs": [
    {
     "data": {
      "text/plain": [
       "215"
      ]
     },
     "execution_count": 15,
     "metadata": {},
     "output_type": "execute_result"
    }
   ],
   "source": [
    "len(primap_hist_data.country.unique())"
   ]
  },
  {
   "cell_type": "markdown",
   "metadata": {},
   "source": [
    "## Category\n",
    "\n",
    "IPCC (Intergovernmental Panel on Climate Change) 2006 categories for emissions. Some aggregate sectors have been added to the hierarchy. These begin with the prefix IPCM instead of IPC."
   ]
  },
  {
   "cell_type": "code",
   "execution_count": 16,
   "metadata": {},
   "outputs": [
    {
     "data": {
      "text/plain": [
       "array(['IPC1A', 'IPC1B1', 'IPC1B2', 'IPC1B3', 'IPC1B', 'IPC1', 'IPC2B',\n",
       "       'IPC2C', 'IPC2D', 'IPC2G', 'IPC2H', 'IPC2', 'IPC3A', 'IPC4',\n",
       "       'IPC5', 'IPCM0EL', 'IPCMAGELV', 'IPCMAG', 'IPC2A'], dtype=object)"
      ]
     },
     "execution_count": 16,
     "metadata": {},
     "output_type": "execute_result"
    }
   ],
   "source": [
    "primap_hist_data.category.unique()"
   ]
  },
  {
   "cell_type": "markdown",
   "metadata": {},
   "source": [
    "See the **[source](https://zenodo.org/record/4479172#data-format-description-columns)** for more details about the category description."
   ]
  },
  {
   "cell_type": "markdown",
   "metadata": {},
   "source": [
    "## Entity\n",
    "\n",
    "Gas categories using global warming potentials (GWP) from either Second Assessment Report (SAR) or Fourth Assessment Report (AR4).\n"
   ]
  },
  {
   "cell_type": "code",
   "execution_count": 17,
   "metadata": {},
   "outputs": [
    {
     "data": {
      "text/plain": [
       "array(['CH4', 'CO2', 'FGASESAR4', 'FGASES', 'HFCSAR4', 'HFCS',\n",
       "       'KYOTOGHGAR4', 'KYOTOGHG', 'N2O', 'NF3', 'PFCSAR4', 'PFCS', 'SF6'],\n",
       "      dtype=object)"
      ]
     },
     "execution_count": 17,
     "metadata": {},
     "output_type": "execute_result"
    }
   ],
   "source": [
    "primap_hist_data.entity.unique()"
   ]
  },
  {
   "cell_type": "markdown",
   "metadata": {},
   "source": [
    "See the **[source](https://zenodo.org/record/4479172#data-format-description-columns)** for more details about the gas description."
   ]
  },
  {
   "cell_type": "markdown",
   "metadata": {},
   "source": [
    "## Unit\n",
    "\n",
    "Unit is either Gg or GgCO2eq (CO2-equivalent according to the global warming potential used)."
   ]
  },
  {
   "cell_type": "markdown",
   "metadata": {},
   "source": [
    "## Remaining columns\n",
    "\n",
    "Years from 1850-2018 so 168 years covered."
   ]
  },
  {
   "cell_type": "markdown",
   "metadata": {},
   "source": [
    "# Missing values\n",
    "\n",
    "This part has got the aim to identify in the dataset the variables with missing values, count them and their frequencies. Then, some further analyses will be done if missing values are found."
   ]
  },
  {
   "cell_type": "code",
   "execution_count": 57,
   "metadata": {},
   "outputs": [],
   "source": [
    "def count_missing_values_per_variable(dataset):\n",
    "    return pd.DataFrame(dataset.isnull().sum(), columns=['nb_missing_values'])"
   ]
  },
  {
   "cell_type": "code",
   "execution_count": 58,
   "metadata": {},
   "outputs": [],
   "source": [
    "def count_frequency_missing_values_per_variable(recap_table, number_total_values):\n",
    "    return recap_table.assign(freq_missing_value=lambda df:\n",
    "                                  round(df.nb_missing_values/number_total_values*100, 1))"
   ]
  },
  {
   "cell_type": "code",
   "execution_count": 59,
   "metadata": {},
   "outputs": [],
   "source": [
    "def filter_variables_with_missing_values(table):\n",
    "    return table[table.nb_missing_values > 0]"
   ]
  },
  {
   "cell_type": "code",
   "execution_count": 60,
   "metadata": {},
   "outputs": [],
   "source": [
    "def create_recap_table_for_no_missing_value():\n",
    "    return pd.DataFrame({'Results': 'None missing value in the dataset'})"
   ]
  },
  {
   "cell_type": "code",
   "execution_count": 61,
   "metadata": {},
   "outputs": [],
   "source": [
    "def sort_descending_number_missing_values(recap_table):\n",
    "    return recap_table.sort_values(by='nb_missing_values', ascending=False)"
   ]
  },
  {
   "cell_type": "code",
   "execution_count": 62,
   "metadata": {},
   "outputs": [],
   "source": [
    "def identify_variables_with_missing_values(dataset):\n",
    "    \n",
    "    recap_table = count_missing_values_per_variable(dataset)\n",
    "    recap_table = filter_variables_with_missing_value(recap_table)\n",
    "    nb_variables_with_missing_values = len(recap_table)\n",
    "\n",
    "    if nb_variables_with_missing_values > 0:\n",
    "        recap_table = count_frequency_missing_values_per_variable(recap_table, len(dataset))\n",
    "        recap_table = sort_descending_number_missing_values(recap_table)\n",
    "    else:\n",
    "        recap_table = create_recap_table_for_no_missing_value()\n",
    "    \n",
    "    return recap_table"
   ]
  },
  {
   "cell_type": "code",
   "execution_count": 63,
   "metadata": {
    "scrolled": false
   },
   "outputs": [
    {
     "data": {
      "text/html": [
       "<div>\n",
       "<style scoped>\n",
       "    .dataframe tbody tr th:only-of-type {\n",
       "        vertical-align: middle;\n",
       "    }\n",
       "\n",
       "    .dataframe tbody tr th {\n",
       "        vertical-align: top;\n",
       "    }\n",
       "\n",
       "    .dataframe thead th {\n",
       "        text-align: right;\n",
       "    }\n",
       "</style>\n",
       "<table border=\"1\" class=\"dataframe\">\n",
       "  <thead>\n",
       "    <tr style=\"text-align: right;\">\n",
       "      <th></th>\n",
       "      <th>nb_missing_values</th>\n",
       "      <th>freq_missing_value</th>\n",
       "    </tr>\n",
       "  </thead>\n",
       "  <tbody>\n",
       "    <tr>\n",
       "      <th>1850</th>\n",
       "      <td>104</td>\n",
       "      <td>0.4</td>\n",
       "    </tr>\n",
       "    <tr>\n",
       "      <th>1956</th>\n",
       "      <td>104</td>\n",
       "      <td>0.4</td>\n",
       "    </tr>\n",
       "    <tr>\n",
       "      <th>1949</th>\n",
       "      <td>104</td>\n",
       "      <td>0.4</td>\n",
       "    </tr>\n",
       "    <tr>\n",
       "      <th>1950</th>\n",
       "      <td>104</td>\n",
       "      <td>0.4</td>\n",
       "    </tr>\n",
       "    <tr>\n",
       "      <th>1951</th>\n",
       "      <td>104</td>\n",
       "      <td>0.4</td>\n",
       "    </tr>\n",
       "    <tr>\n",
       "      <th>...</th>\n",
       "      <td>...</td>\n",
       "      <td>...</td>\n",
       "    </tr>\n",
       "    <tr>\n",
       "      <th>2006</th>\n",
       "      <td>94</td>\n",
       "      <td>0.3</td>\n",
       "    </tr>\n",
       "    <tr>\n",
       "      <th>2007</th>\n",
       "      <td>72</td>\n",
       "      <td>0.3</td>\n",
       "    </tr>\n",
       "    <tr>\n",
       "      <th>2008</th>\n",
       "      <td>70</td>\n",
       "      <td>0.2</td>\n",
       "    </tr>\n",
       "    <tr>\n",
       "      <th>2009</th>\n",
       "      <td>34</td>\n",
       "      <td>0.1</td>\n",
       "    </tr>\n",
       "    <tr>\n",
       "      <th>2010</th>\n",
       "      <td>4</td>\n",
       "      <td>0.0</td>\n",
       "    </tr>\n",
       "  </tbody>\n",
       "</table>\n",
       "<p>161 rows × 2 columns</p>\n",
       "</div>"
      ],
      "text/plain": [
       "      nb_missing_values  freq_missing_value\n",
       "1850                104                 0.4\n",
       "1956                104                 0.4\n",
       "1949                104                 0.4\n",
       "1950                104                 0.4\n",
       "1951                104                 0.4\n",
       "...                 ...                 ...\n",
       "2006                 94                 0.3\n",
       "2007                 72                 0.3\n",
       "2008                 70                 0.2\n",
       "2009                 34                 0.1\n",
       "2010                  4                 0.0\n",
       "\n",
       "[161 rows x 2 columns]"
      ]
     },
     "execution_count": 63,
     "metadata": {},
     "output_type": "execute_result"
    }
   ],
   "source": [
    "identify_variables_with_missing_values(primap_hist_data)"
   ]
  },
  {
   "cell_type": "code",
   "execution_count": null,
   "metadata": {},
   "outputs": [],
   "source": []
  }
 ],
 "metadata": {
  "kernelspec": {
   "display_name": "Python 3",
   "language": "python",
   "name": "python3"
  },
  "language_info": {
   "codemirror_mode": {
    "name": "ipython",
    "version": 3
   },
   "file_extension": ".py",
   "mimetype": "text/x-python",
   "name": "python",
   "nbconvert_exporter": "python",
   "pygments_lexer": "ipython3",
   "version": "3.8.5"
  }
 },
 "nbformat": 4,
 "nbformat_minor": 4
}
