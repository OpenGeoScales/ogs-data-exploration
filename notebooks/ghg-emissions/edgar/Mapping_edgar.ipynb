{
 "cells": [
  {
   "cell_type": "code",
   "execution_count": 2,
   "id": "embedded-basin",
   "metadata": {},
   "outputs": [],
   "source": [
    "import pandas as pd\n",
    "import numpy as np\n",
    "import matplotlib.pyplot as plt\n",
    "import json\n",
    "import math"
   ]
  },
  {
   "cell_type": "markdown",
   "id": "diagnostic-breach",
   "metadata": {},
   "source": [
    "<h2> Read the file </h2>"
   ]
  },
  {
   "cell_type": "code",
   "execution_count": 5,
   "id": "crazy-peace",
   "metadata": {},
   "outputs": [
    {
     "data": {
      "text/html": [
       "<div>\n",
       "<style scoped>\n",
       "    .dataframe tbody tr th:only-of-type {\n",
       "        vertical-align: middle;\n",
       "    }\n",
       "\n",
       "    .dataframe tbody tr th {\n",
       "        vertical-align: top;\n",
       "    }\n",
       "\n",
       "    .dataframe thead th {\n",
       "        text-align: right;\n",
       "    }\n",
       "</style>\n",
       "<table border=\"1\" class=\"dataframe\">\n",
       "  <thead>\n",
       "    <tr style=\"text-align: right;\">\n",
       "      <th></th>\n",
       "      <th>lat</th>\n",
       "      <th>lon</th>\n",
       "      <th>emission 1970 (tons)</th>\n",
       "    </tr>\n",
       "  </thead>\n",
       "  <tbody>\n",
       "    <tr>\n",
       "      <th>0</th>\n",
       "      <td>60.4</td>\n",
       "      <td>85.0</td>\n",
       "      <td>1.45699</td>\n",
       "    </tr>\n",
       "    <tr>\n",
       "      <th>1</th>\n",
       "      <td>60.2</td>\n",
       "      <td>86.7</td>\n",
       "      <td>4.62809</td>\n",
       "    </tr>\n",
       "    <tr>\n",
       "      <th>2</th>\n",
       "      <td>60.2</td>\n",
       "      <td>87.0</td>\n",
       "      <td>3.04254</td>\n",
       "    </tr>\n",
       "  </tbody>\n",
       "</table>\n",
       "</div>"
      ],
      "text/plain": [
       "    lat   lon  emission 1970 (tons)\n",
       "0  60.4  85.0               1.45699\n",
       "1  60.2  86.7               4.62809\n",
       "2  60.2  87.0               3.04254"
      ]
     },
     "execution_count": 5,
     "metadata": {},
     "output_type": "execute_result"
    }
   ],
   "source": [
    "# Read datafile corresponding to territorial emissions\n",
    "df = pd.read_csv(\"data/CH4/AGS_txt/v50_CH4_1970_AGS.txt\",delimiter=\";\",skiprows=2)\n",
    "\n",
    "# Set the dataframe structure\n",
    "#df.sort_values([\"Year\",\"Country\"],inplace=True)\n",
    "#df.set_index([\"Year\",\"Country\"],inplace=True)\n",
    "\n",
    "# Convert the MtCO2 in MtC (to be in adequation with the values from other dataset of GCP)\n",
    "#df[[\"Total\",\"Coal\",\"Oil\",\"Gas\",\"Cement\",\"Flaring\",\"Other\",\"Per Capita\"]] = (1.0/3.664)* df[[\"Total\",\"Coal\",\"Oil\",\"Gas\",\"Cement\",\"Flaring\",\"Other\",\"Per Capita\"]]\n",
    "\n",
    "df.head(3)"
   ]
  },
  {
   "cell_type": "markdown",
   "id": "static-latvia",
   "metadata": {},
   "source": [
    "<h2>Mapping</h2>"
   ]
  },
  {
   "cell_type": "markdown",
   "id": "composed-break",
   "metadata": {},
   "source": [
    "This part generates the mapped version of the dataset according to this [model](https://github.com/OpenGeoScales/ogs-connectors/wiki/Data-model). "
   ]
  },
  {
   "cell_type": "markdown",
   "id": "hundred-isaac",
   "metadata": {},
   "source": [
    "<h3>Pre-processing</h3>"
   ]
  },
  {
   "cell_type": "markdown",
   "id": "logical-logic",
   "metadata": {},
   "source": [
    "Depending on the structure of the dataset, it might be necessary to adapt how the dataset is read below (i.e. add dataset-specific for loops). In the case of GCP, we loop over years, countries and sectors. \n",
    "\n",
    "<b>For every emission value, we create a single .json object.</b> "
   ]
  },
  {
   "cell_type": "code",
   "execution_count": 3,
   "id": "athletic-stone",
   "metadata": {},
   "outputs": [],
   "source": [
    "# Option to select only a subset of countries/year (to check structure)\n",
    "list_years=[1970]\n",
    "#list_country=[\"Afghanistan\",\"Albania\"]\n",
    "\n",
    "# Define the range of years, countries and sectors from the data that we will map (here it is the entire dataset). \n",
    "#list_years = df.index.get_level_values(0).unique()\n",
    "#list_country = df.index.get_level_values(1).unique()\n",
    "list_sectors=[\"AGS\"]"
   ]
  },
  {
   "cell_type": "markdown",
   "id": "better-better",
   "metadata": {},
   "source": [
    "The original sectors from the dataset need to be mapped to a standardised name of the sector. The current standard sectors are defined in the Excel sheet <code>sectors mapping</code> in the following Excel [document](https://docs.google.com/spreadsheets/d/1CnTpHjZZZepgJ1o1VuQUN61ZaLLRtM1OhZzJU9HCPaY/edit#gid=1017073866).\n",
    "\n",
    "Similarly, it is important to look at the gas mapping nomenclature that can be found in the Excel sheet <code>gas mapping</code> in the same Excel document."
   ]
  },
  {
   "cell_type": "code",
   "execution_count": 4,
   "id": "creative-appreciation",
   "metadata": {},
   "outputs": [],
   "source": [
    "# Mapping sector\n",
    "mapped_sectors={}\n",
    "mapped_sectors[\"Coal\"]=\"fossil_emissions_coal\"\n",
    "mapped_sectors[\"Oil\"]=\"fossil_emissions_oil\"\n",
    "mapped_sectors[\"Gas\"]=\"fossil_emissions_gas\"\n",
    "mapped_sectors[\"Cement\"]=\"fossil_emissions_cement\"\n",
    "mapped_sectors[\"Flaring\"]=\"fossil_emissions_flaring\"\n",
    "mapped_sectors[\"Other\"]=\"fossil_emissions_other\"\n",
    "\n",
    "# Mapping gas name. If multiple gas, look at the Excel sheet for the correspondance.\n",
    "mapped_gas_name=\"CO2\""
   ]
  },
  {
   "cell_type": "markdown",
   "id": "confused-ireland",
   "metadata": {},
   "source": [
    "Instructions for the nomenclature of the mapped data filename:\n",
    "<ul>\n",
    "    <li>The output mapped data must be stored in a sub-directory <code>mapped</code> in the directory associated with the dataset in <code>data/ghg-emissions/</code></li>\n",
    "    <li>the name of the mapped data set must be <code>mapped_data_<span style=\"color:red\">DataSourceName</span>.json</code></li> where <code><span style=\"color:red\">DataSourceName</span></code> is the same name used to characterize the directory of the dataset in <code>data/ghg-emissions/</code></li> \n",
    "</ul>\n",
    "\n",
    "<ins>Ex</ins>: For the data of gcp, the mapped datafile is found at <code>data/ghg-emissions/gcp/mapped/mapped_data_gcp.json</code>"
   ]
  },
  {
   "cell_type": "code",
   "execution_count": 5,
   "id": "phantom-boutique",
   "metadata": {},
   "outputs": [],
   "source": [
    "# Define the name for the output mapped datafile.\n",
    "path=\"../../../data/ghg-emissions/gcp/mapped/\"\n",
    "data_name=\"gcp\"\n",
    "namefile = path+\"mapped_data_\"+data_name+\".json\""
   ]
  },
  {
   "cell_type": "markdown",
   "id": "willing-exposure",
   "metadata": {},
   "source": [
    "<h3>Main mapping loop</h3> "
   ]
  },
  {
   "cell_type": "code",
   "execution_count": 6,
   "id": "infinite-convergence",
   "metadata": {},
   "outputs": [],
   "source": [
    "# Create the output file\n",
    "file = open(namefile, \"w\")\n",
    "\n",
    "# Loop over geo_component (in this case, countries)\n",
    "for country in list_country:\n",
    "    \n",
    "    # Loop over years\n",
    "    for yr inn list_years:\n",
    "        for sect in list_sectors:\n",
    "            \n",
    "            # Get the emission value from dataset\n",
    "            emission_value = df.loc[(yr,country),sect] \n",
    "            \n",
    "            if not math.isnan(emission_value):\n",
    "\n",
    "                # Create dictionary that will contain the final json object\n",
    "                dict_mapped_entry={}\n",
    "\n",
    "                ############## Entries associated with data_source\n",
    "                dict_data_source={}\n",
    "                dict_data_source[\"name\"]=data_name    \n",
    "                dict_data_source[\"link\"]=\"https://www.globalcarbonproject.org/carbonbudget/20/data.htm\"\n",
    "\n",
    "                ############## Entries associated with geo_component\n",
    "                dict_geo_component={}\n",
    "                \n",
    "                # Sub-dictionary geo-component ID\n",
    "                dict_geo_component_id={}\n",
    "                dict_geo_component_id[\"id\"]=df.loc[(2019,country),\"ISO 3166-1 alpha-3\"]\n",
    "                dict_geo_component_id[\"type\"]=\"alpha3\"           \n",
    "                \n",
    "                dict_geo_component[\"scale\"]=\"country\"\n",
    "                dict_geo_component[\"name\"]=country      \n",
    "                dict_geo_component[\"identifier\"]=dict_geo_component_id\n",
    "                \n",
    "                ############# Entries associated with emission\n",
    "                dict_emission={}\n",
    "                   \n",
    "                # Sub-dictionnary on unit\n",
    "                dict_emission_unit={}\n",
    "                dict_emission_unit[\"unit_used\"]=\"MtC\"\n",
    "                \n",
    "                # Sub-dictionary on sector\n",
    "                dict_emission_sector={}\n",
    "                dict_emission_sector[\"sector_origin_name\"]=sect\n",
    "                dict_emission_sector[\"sector_mapped_name\"]=mapped_sectors[sect]\n",
    "                \n",
    "                dict_emission[\"gas\"]=mapped_gas_name\n",
    "                dict_emission[\"value\"]=emission_value\n",
    "                dict_emission[\"unit\"]=dict_emission_unit\n",
    "                dict_emission[\"sector\"]=dict_emission_sector         \n",
    "                \n",
    "                ############# Combine everything together\n",
    "                dict_mapped_entry[\"data_source\"]=dict_data_source\n",
    "                dict_mapped_entry[\"geo_component\"]=dict_geo_component \n",
    "                dict_mapped_entry[\"date\"]=str(yr)+\"-01-01\"\n",
    "                dict_mapped_entry[\"emission\"]=dict_emission\n",
    "                 \n",
    "                # Write the json object to a file and add a line break (every line is a json object)\n",
    "                json.dump(dict_mapped_entry, file)\n",
    "                file.write(\"\\n\")\n",
    "file.close()"
   ]
  }
 ],
 "metadata": {
  "kernelspec": {
   "display_name": "Python 3",
   "language": "python",
   "name": "python3"
  },
  "language_info": {
   "codemirror_mode": {
    "name": "ipython",
    "version": 3
   },
   "file_extension": ".py",
   "mimetype": "text/x-python",
   "name": "python",
   "nbconvert_exporter": "python",
   "pygments_lexer": "ipython3",
   "version": "3.9.2"
  }
 },
 "nbformat": 4,
 "nbformat_minor": 5
}
