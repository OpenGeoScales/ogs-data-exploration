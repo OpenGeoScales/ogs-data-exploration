{
 "cells": [
  {
   "cell_type": "code",
   "execution_count": 2,
   "id": "embedded-basin",
   "metadata": {},
   "outputs": [],
   "source": [
    "import pandas as pd\n",
    "import numpy as np\n",
    "import matplotlib.pyplot as plt\n",
    "import json\n",
    "import math"
   ]
  },
  {
   "cell_type": "markdown",
   "id": "static-latvia",
   "metadata": {},
   "source": [
    "<h2>Mapping</h2>"
   ]
  },
  {
   "cell_type": "markdown",
   "id": "composed-break",
   "metadata": {},
   "source": [
    "This part generates the mapped version of the dataset according to this [model](https://github.com/OpenGeoScales/ogs-connectors/wiki/Data-model). "
   ]
  },
  {
   "cell_type": "markdown",
   "id": "hundred-isaac",
   "metadata": {},
   "source": [
    "<h3>Pre-processing</h3>"
   ]
  },
  {
   "cell_type": "markdown",
   "id": "logical-logic",
   "metadata": {},
   "source": [
    "Depending on the structure of the dataset, it might be necessary to adapt how the dataset is read below (i.e. add dataset-specific for loops). In the case of GCP, we loop over years, countries and sectors. \n",
    "\n",
    "<b>For every emission value, we create a single .json object.</b> "
   ]
  },
  {
   "cell_type": "code",
   "execution_count": 37,
   "id": "athletic-stone",
   "metadata": {},
   "outputs": [],
   "source": [
    "# Option to select only a subset of countries/year (to check structure)\n",
    "list_years=['1970']\n",
    "\n",
    "list_sectors=[\"ENE\"]\n",
    "\n",
    "list_gas=['CH4']"
   ]
  },
  {
   "cell_type": "markdown",
   "id": "better-better",
   "metadata": {},
   "source": [
    "The original sectors from the dataset need to be mapped to a standardised name of the sector. The current standard sectors are defined in the Excel sheet <code>sectors mapping</code> in the following Excel [document](https://docs.google.com/spreadsheets/d/1CnTpHjZZZepgJ1o1VuQUN61ZaLLRtM1OhZzJU9HCPaY/edit#gid=1017073866).\n",
    "\n",
    "Similarly, it is important to look at the gas mapping nomenclature that can be found in the Excel sheet <code>gas mapping</code> in the same Excel document."
   ]
  },
  {
   "cell_type": "code",
   "execution_count": 22,
   "id": "creative-appreciation",
   "metadata": {},
   "outputs": [],
   "source": [
    "# Mapping sector\n",
    "mapped_sectors={}\n",
    "mapped_sectors[\"AGS\"]=\"agriculture\"\n",
    "mapped_sectors[\"ENE\"]=\"electricity_heat\"\n",
    "\n",
    "# Mapping gas name. If multiple gas, look at the Excel sheet for the correspondance.\n",
    "mapped_gas={}\n",
    "mapped_gas[\"CH4\"]=\"CH4\"\n",
    "mapped_gas[\"N2O\"]=\"N2O\"\n",
    "mapped_gas[\"CO2_org_short-cycle_C\"]=\"CO2\"\n",
    "mapped_gas[\"CO2_excl_short-cycle_org_C\"]=\"CO2\"\n"
   ]
  },
  {
   "cell_type": "markdown",
   "id": "confused-ireland",
   "metadata": {},
   "source": [
    "Instructions for the nomenclature of the mapped data filename:\n",
    "<ul>\n",
    "    <li>The output mapped data must be stored in a sub-directory <code>mapped</code> in the directory associated with the dataset in <code>data/ghg-emissions/</code></li>\n",
    "    <li>the name of the mapped data set must be <code>mapped_data_<span style=\"color:red\">DataSourceName</span>.json</code></li> where <code><span style=\"color:red\">DataSourceName</span></code> is the same name used to characterize the directory of the dataset in <code>data/ghg-emissions/</code></li> \n",
    "</ul>\n",
    "\n",
    "<ins>Ex</ins>: For the data of gcp, the mapped datafile is found at <code>data/ghg-emissions/gcp/mapped/mapped_data_gcp.json</code>"
   ]
  },
  {
   "cell_type": "code",
   "execution_count": 8,
   "id": "phantom-boutique",
   "metadata": {},
   "outputs": [],
   "source": [
    "# Define the name for the output mapped datafile.\n",
    "path=\"data/\""
   ]
  },
  {
   "cell_type": "markdown",
   "id": "willing-exposure",
   "metadata": {},
   "source": [
    "<h3>Main mapping loop</h3> "
   ]
  },
  {
   "cell_type": "code",
   "execution_count": 23,
   "id": "nearby-david",
   "metadata": {},
   "outputs": [],
   "source": [
    "list_gas = [\"CH4\",\"N2O\",\"CO2_org_short-cycle_C\"]\n",
    "list_sectors=[\"ENE\"]\n",
    "list_years=[\"2018\"]"
   ]
  },
  {
   "cell_type": "code",
   "execution_count": 24,
   "id": "infinite-convergence",
   "metadata": {},
   "outputs": [],
   "source": [
    "file=open(\"mapped_data_edgar.json\",\"w\")\n",
    "# Loop over geo_component (in this case, countries)\n",
    "for gas in list_gas:\n",
    "    \n",
    "    for sect in list_sectors:\n",
    "        \n",
    "        # Loop over years\n",
    "        for yr in list_years:\n",
    "            namefile=path+gas+\"/\"+sect+\"_txt/v6.0_\"+gas+\"_\"+yr+\"_\"+sect+\".txt\"\n",
    "            df = pd.read_csv(namefile,delimiter=\";\",skiprows=2)\n",
    "            df.columns=[\"lat\",\"lon\",\"emission\"]\n",
    "\n",
    "            for i in range(len(df)):\n",
    "                lat=df.loc[i,'lat']\n",
    "                lon=df.loc[i,'lon']\n",
    "                emission_value=df.loc[i,'emission']\n",
    "\n",
    "                # Get the emission value from dataset\n",
    "        \n",
    "                if not math.isnan(emission_value):\n",
    "\n",
    "                    # Create dictionary that will contain the final json object\n",
    "                    dict_mapped_entry={}\n",
    "\n",
    "                    ############## Entries associated with data_source\n",
    "                    dict_data_source={}\n",
    "                    dict_data_source[\"name\"]=\"edgar\"    \n",
    "                    #dict_data_source[\"link\"]=\"https://www.globalcarbonproject.org/carbonbudget/20/data.htm\"\n",
    "\n",
    "                    ############## Entries associated with geo_component\n",
    "                    dict_geo_component={}\n",
    "                \n",
    "                    # Sub-dictionary geo-component ID\n",
    "                    dict_geo_component_id={}\n",
    "\n",
    "                    dict_geo_component_id[\"id\"]=str(lat)+\";\"+str(lon)\n",
    "                    dict_geo_component_id[\"type\"]=\"position\"           \n",
    "                \n",
    "                    dict_geo_component[\"scale\"]=\"grid\"\n",
    "                    #dict_geo_component[\"name\"]=country      \n",
    "                    dict_geo_component[\"identifier\"]=dict_geo_component_id\n",
    "                \n",
    "                    ############# Entries associated with emission\n",
    "                    dict_emission={}\n",
    "                   \n",
    "                    # Sub-dictionnary on unit\n",
    "                    dict_emission_unit={}\n",
    "                    dict_emission_unit[\"unit_used\"]=\"tons\"\n",
    "                \n",
    "                    # Sub-dictionary on sector\n",
    "                    dict_emission_sector={}\n",
    "                    dict_emission_sector[\"sector_origin_name\"]=sect\n",
    "                    dict_emission_sector[\"sector_mapped_name\"]=mapped_sectors[sect]\n",
    "                \n",
    "                    dict_emission[\"gas\"]=mapped_gas[gas]\n",
    "                    dict_emission[\"value\"]=emission_value\n",
    "                    dict_emission[\"unit\"]=dict_emission_unit\n",
    "                    dict_emission[\"sector\"]=dict_emission_sector         \n",
    "                \n",
    "                    ############# Combine everything together\n",
    "                    dict_mapped_entry[\"data_source\"]=dict_data_source\n",
    "                    dict_mapped_entry[\"geo_component\"]=dict_geo_component \n",
    "                    dict_mapped_entry[\"date\"]=str(yr)+\"-01-01\"\n",
    "                    dict_mapped_entry[\"emission\"]=dict_emission\n",
    "                 \n",
    "                    # Write the json object to a file and add a line break (every line is a json object)\n",
    "                    json.dump(dict_mapped_entry, file)\n",
    "                    file.write(\"\\n\")\n",
    "file.close()"
   ]
  },
  {
   "cell_type": "code",
   "execution_count": null,
   "id": "unable-apple",
   "metadata": {},
   "outputs": [],
   "source": []
  }
 ],
 "metadata": {
  "kernelspec": {
   "display_name": "Python 3",
   "language": "python",
   "name": "python3"
  },
  "language_info": {
   "codemirror_mode": {
    "name": "ipython",
    "version": 3
   },
   "file_extension": ".py",
   "mimetype": "text/x-python",
   "name": "python",
   "nbconvert_exporter": "python",
   "pygments_lexer": "ipython3",
   "version": "3.9.2"
  }
 },
 "nbformat": 4,
 "nbformat_minor": 5
}
