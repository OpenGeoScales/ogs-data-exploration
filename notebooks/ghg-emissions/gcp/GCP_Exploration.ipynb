{
 "cells": [
  {
   "cell_type": "code",
   "execution_count": 1,
   "id": "embedded-basin",
   "metadata": {},
   "outputs": [],
   "source": [
    "import pandas as pd\n",
    "import numpy as np\n",
    "import matplotlib.pyplot as plt"
   ]
  },
  {
   "cell_type": "markdown",
   "id": "maritime-metadata",
   "metadata": {},
   "source": [
    "<h1> Exploration of GCP database</h1>"
   ]
  },
  {
   "cell_type": "code",
   "execution_count": 2,
   "id": "crazy-homeless",
   "metadata": {},
   "outputs": [
    {
     "name": "stdout",
     "output_type": "stream",
     "text": [
      "List of excel sheets in the database: \n",
      "['Summary', 'Global Carbon Budget', 'Fossil Emissions by Category', 'Land-Use Change Emissions', 'Ocean Sink', 'Terrestrial Sink', 'Cement Carbonation Sink', 'Historical Budget']\n"
     ]
    }
   ],
   "source": [
    "# Import the excel project\n",
    "xls = pd.ExcelFile(\"../../../data/ghg-emissions/gcp/Global_Carbon_Budget_2020v1.0.xlsx\")\n",
    "\n",
    "print(\"List of excel sheets in the database: \")\n",
    "print(xls.sheet_names)"
   ]
  },
  {
   "cell_type": "markdown",
   "id": "choice-retirement",
   "metadata": {},
   "source": [
    "<h2>Global Carbon Budget Sheet</h2>"
   ]
  },
  {
   "cell_type": "markdown",
   "id": "rising-asset",
   "metadata": {},
   "source": [
    "All values in billion tonnes of carbon per year (GtC/yr), for the globe. For values in billion tonnes of carbon dioxide per year (GtCO2/yr) , multiply the numbers below by 3.664. Note: 1 billion tonnes C = 1 petagram of carbon (10^15 gC) = 1 gigatonne C = 3.664 billion tonnes of CO2"
   ]
  },
  {
   "cell_type": "markdown",
   "id": "employed-priority",
   "metadata": {},
   "source": [
    "All uncertainties represent ± 1 sigma error (68 % chance of being in the range provided). Here are the uncertainties\n",
    "\n",
    "<ul>\n",
    "    <li> Emissions from fossil fuel combustion and industrial processes (uncertainty of ±5% for a ± 1 sigma confidence level) </li>\n",
    "    <li>Emissions from land-use change (uncertainty of ±0.7 GtC/yr)</li>\n",
    "    <li>The atmospheric CO2 growth rate (variable uncertainty around 0.2 GtC/yr from 1980) is estimated directly from atmospheric CO2 concentration measurements, and provided by the US National Oceanic and Atmospheric Administration Earth System Research Laboratory (NOAA/ESRL).  http://www.esrl.noaa.gov/gmd/ccgg/trends/global.html</li>\n",
    "    <li>The ocean sink (uncertainty of ±0.4 GtC/yr on average) is estimated from the average of several global ocean biogeochemistry models that reproduce the observed mean ocean sink of the 1990s. </li>\n",
    "    <li>The land sink (uncertainty of ±0.9 GtC/yr on average) was estimated from the average of several dynamic global vegetation models that reproduce the observed mean total land sink of the 1990s.</li>\n",
    "    <li>The cement carbonation sink: no uncertainty given in database</li>\n",
    "    \n",
    "</ul>"
   ]
  },
  {
   "cell_type": "markdown",
   "id": "catholic-declaration",
   "metadata": {},
   "source": [
    "This database estimates the various terms that play a role in the carbon cycle:<br/>\n",
    "<center>\n",
    "$E_{fos} + E_{luc} = G_{ATM} + S_{OCEAN} + S_{LAND} + B_{IM}$ \n",
    "</center>"
   ]
  },
  {
   "cell_type": "markdown",
   "id": "eligible-vacuum",
   "metadata": {},
   "source": [
    "where,\n",
    "<ul>\n",
    "    <li>$E_{fos}$ is the emission of $CO_{2}$ due to fossil fuel combustion and oxidation from all energy and industrial processes, also including cement production and carbonation.</li>\n",
    "    <li>$E_{luc}$ is the emission of $CO_{2}$ resulting from deliberate human activities on land, including those leading to land-use change</li>\n",
    "    <li>$G_{atm}$ is the increase of $CO_{2}$ in atmosphere resulting from the two previous sources</li>\n",
    "    <li>$S_{OCEAN}$ is the increase of $CO_{2}$ in ocean resulting from the two previous sources </li>\n",
    "    <li>$S_{LAND}$ is the increase of $CO_{2}$ in the land resulting from the two previous sources </li>\n",
    "    <li>$B_{IM}$ is the balance uncertainty and is a measure of the imperfection of our data (<b>directly estimated using all other quantities, NOT estimated with data </b> </li>\n",
    "</ul>\n"
   ]
  },
  {
   "cell_type": "code",
   "execution_count": 3,
   "id": "wrapped-exchange",
   "metadata": {},
   "outputs": [
    {
     "data": {
      "text/html": [
       "<div>\n",
       "<style scoped>\n",
       "    .dataframe tbody tr th:only-of-type {\n",
       "        vertical-align: middle;\n",
       "    }\n",
       "\n",
       "    .dataframe tbody tr th {\n",
       "        vertical-align: top;\n",
       "    }\n",
       "\n",
       "    .dataframe thead th {\n",
       "        text-align: right;\n",
       "    }\n",
       "</style>\n",
       "<table border=\"1\" class=\"dataframe\">\n",
       "  <thead>\n",
       "    <tr style=\"text-align: right;\">\n",
       "      <th></th>\n",
       "      <th>Fossil emissions excluding carbonation (GtC/yr)</th>\n",
       "      <th>Land-use change emissions (GtC/yr)</th>\n",
       "      <th>Atmospheric growth (GtC/yr)</th>\n",
       "      <th>Ocean sink (GtC/yr)</th>\n",
       "      <th>Land sink (GtC/yr)</th>\n",
       "      <th>Cement carbonation sink (GtC/yr)</th>\n",
       "      <th>Budget imbalance (GtC/yr)</th>\n",
       "    </tr>\n",
       "    <tr>\n",
       "      <th>Year</th>\n",
       "      <th></th>\n",
       "      <th></th>\n",
       "      <th></th>\n",
       "      <th></th>\n",
       "      <th></th>\n",
       "      <th></th>\n",
       "      <th></th>\n",
       "    </tr>\n",
       "  </thead>\n",
       "  <tbody>\n",
       "    <tr>\n",
       "      <th>2017</th>\n",
       "      <td>9.742</td>\n",
       "      <td>1.521109</td>\n",
       "      <td>4.57722</td>\n",
       "      <td>2.519991</td>\n",
       "      <td>3.830033</td>\n",
       "      <td>0.203694</td>\n",
       "      <td>0.132171</td>\n",
       "    </tr>\n",
       "    <tr>\n",
       "      <th>2018</th>\n",
       "      <td>9.94</td>\n",
       "      <td>1.553637</td>\n",
       "      <td>5.08698</td>\n",
       "      <td>2.561091</td>\n",
       "      <td>3.776394</td>\n",
       "      <td>0.210856</td>\n",
       "      <td>-0.141683</td>\n",
       "    </tr>\n",
       "    <tr>\n",
       "      <th>2019</th>\n",
       "      <td>9.945622</td>\n",
       "      <td>1.802637</td>\n",
       "      <td>5.42682</td>\n",
       "      <td>2.625991</td>\n",
       "      <td>3.136743</td>\n",
       "      <td>0.215298</td>\n",
       "      <td>0.343408</td>\n",
       "    </tr>\n",
       "  </tbody>\n",
       "</table>\n",
       "</div>"
      ],
      "text/plain": [
       "     Fossil emissions excluding carbonation (GtC/yr)  \\\n",
       "Year                                                   \n",
       "2017                                           9.742   \n",
       "2018                                            9.94   \n",
       "2019                                        9.945622   \n",
       "\n",
       "     Land-use change emissions (GtC/yr) Atmospheric growth (GtC/yr)  \\\n",
       "Year                                                                  \n",
       "2017                           1.521109                     4.57722   \n",
       "2018                           1.553637                     5.08698   \n",
       "2019                           1.802637                     5.42682   \n",
       "\n",
       "      Ocean sink (GtC/yr)  Land sink (GtC/yr)  \\\n",
       "Year                                            \n",
       "2017             2.519991            3.830033   \n",
       "2018             2.561091            3.776394   \n",
       "2019             2.625991            3.136743   \n",
       "\n",
       "      Cement carbonation sink (GtC/yr)  Budget imbalance (GtC/yr)  \n",
       "Year                                                               \n",
       "2017                          0.203694                   0.132171  \n",
       "2018                          0.210856                  -0.141683  \n",
       "2019                          0.215298                   0.343408  "
      ]
     },
     "execution_count": 3,
     "metadata": {},
     "output_type": "execute_result"
    }
   ],
   "source": [
    "# Read dataframe\n",
    "df_gcb = pd.read_excel(xls, 'Global Carbon Budget',header=20)\n",
    "\n",
    "# Drop the unwanted columns that do not hold any data\n",
    "df_gcb=df_gcb.iloc[:,:8]\n",
    "\n",
    "# Drop the last lines corresponding to 2020 (only model) and commentary associated\n",
    "df_gcb.drop(df_gcb.tail(4).index,inplace=True)\n",
    "\n",
    "df_gcb.rename(columns={\"fossil emissions excluding carbonation\":\"Fossil emissions excluding carbonation (GtC/yr)\",\n",
    "                   \"land-use change emissions\":\"Land-use change emissions (GtC/yr)\",\n",
    "                   \"atmospheric growth\":\"Atmospheric growth (GtC/yr)\",\n",
    "                   \"ocean sink\":\"Ocean sink (GtC/yr)\",\"land sink\":\"Land sink (GtC/yr)\",\n",
    "                   \"cement carbonation sink\":\"Cement carbonation sink (GtC/yr)\",\n",
    "                   \"budget imbalance\":\"Budget imbalance (GtC/yr)\"},inplace=True)\n",
    "\n",
    "# Change column Year to index\n",
    "df_gcb.set_index(\"Year\",inplace=True)\n",
    "\n",
    "# Visual inspection\n",
    "df_gcb.tail(3)"
   ]
  },
  {
   "cell_type": "code",
   "execution_count": 4,
   "id": "champion-founder",
   "metadata": {},
   "outputs": [
    {
     "data": {
      "image/png": "[encoded data removed]",
      "text/plain": [
       "<Figure size 1080x576 with 1 Axes>"
      ]
     },
     "metadata": {
      "needs_background": "light"
     },
     "output_type": "display_data"
    }
   ],
   "source": [
    "# Plotting\n",
    "plt.figure(figsize=(15,8))\n",
    "for name in df_gcb.columns:\n",
    "    if name not in [\"Budget imbalance (GtC/yr)\"]:\n",
    "        plt.plot(df_gcb.index,df_gcb[name],label=name)\n",
    "plt.title(\"Summary GCP database\",size=25)\n",
    "plt.legend(prop={'size': 15})\n",
    "plt.xlabel(\"Year\",size=20)\n",
    "plt.ylabel(\"GtC / yr\",size=20)\n",
    "ax=plt.gca()\n",
    "plt.rc('xtick',labelsize=15)\n",
    "plt.rc('ytick',labelsize=15)"
   ]
  },
  {
   "cell_type": "code",
   "execution_count": 5,
   "id": "driving-energy",
   "metadata": {},
   "outputs": [
    {
     "data": {
      "text/plain": [
       "Text(0, 0.5, 'GtC / yr')"
      ]
     },
     "execution_count": 5,
     "metadata": {},
     "output_type": "execute_result"
    },
    {
     "data": {
      "image/png": "[encoded data removed]",
      "text/plain": [
       "<Figure size 720x432 with 1 Axes>"
      ]
     },
     "metadata": {
      "needs_background": "light"
     },
     "output_type": "display_data"
    }
   ],
   "source": [
    "plt.figure(figsize=(10,6))\n",
    "\n",
    "name=\"Budget imbalance (GtC/yr)\"\n",
    "plt.plot(df_gcb.index,df_gcb[name],label=name)\n",
    "plt.title(\"Budget imbalance\",size=25)\n",
    "plt.xlabel(\"Year\",size=20)\n",
    "plt.ylabel(\"GtC / yr\",size=20)"
   ]
  },
  {
   "cell_type": "markdown",
   "id": "weird-importance",
   "metadata": {},
   "source": [
    "<h2>Fossil Emissions $E_{FOS}$ excluding carbonation</h2>"
   ]
  },
  {
   "cell_type": "markdown",
   "id": "fifth-history",
   "metadata": {},
   "source": [
    "<h3> World level</h3>"
   ]
  },
  {
   "cell_type": "markdown",
   "id": "sufficient-revision",
   "metadata": {},
   "source": [
    "The emissions are divided into several categories:\n",
    "<ul>\n",
    "    <li>Coal</li>\n",
    "    <li>Oil</li>\n",
    "    <li>Gas</li>\n",
    "    <li>Cement emission</li>\n",
    "    <li>Flaring</li>\n",
    "    <li>Other (like processes involving the production of chemicals and fertilizers)</li>\n",
    "</ul>"
   ]
  },
  {
   "cell_type": "markdown",
   "id": "square-least",
   "metadata": {},
   "source": [
    "<b> It is important to note that, the CO2 sink from cement is NOT included here</b>. So, technically, the data given here are slighlty different from $E_{FOS}$ in Eq.1 that does include cement carbonation. \n",
    "\n",
    "<b>“cement carbonation”</b> ---> process in which from its creation cement starts to absorb CO2 from the atmosphere"
   ]
  },
  {
   "cell_type": "markdown",
   "id": "beneficial-trance",
   "metadata": {},
   "source": [
    "The estimates given here are mainly based on energy consumption data. The main datasets used here are:\n",
    "<ul>\n",
    "    <li><b>Carbon Dioxide Information Analysis Center (CDIAC)</b>: Global and national emission estimates for coal, oil, natural gas, and peat fuel extractio for the time period 1750–2017. This database is interesting for the data between years 1750-1990</li>\n",
    "    <li><b>UNFCCC</b>: Official national greenhouse gas inventory reports annually for 1990–2018 for 42 countries (very accurate)</li>\n",
    "    <li><b>The BP Statistical Review of World Energy (BP)</b>: most up-to-date estimates of national energy statistics for the latest years </li>\n",
    "    <li><b>Global and national cement emissions updated from Andrew (2019)</b>: include the latest estimates of cement production and clinker ratio</li>\n",
    "</ul>"
   ]
  },
  {
   "cell_type": "markdown",
   "id": "minimal-minority",
   "metadata": {},
   "source": [
    "All values given here are in million tonnes of carbon per year (MtC/yr), except the per capita emissions which are in tonnes of carbon per person per year (tC/person/yr).\n",
    "\n",
    "The uncertainty for the global estimates is about ±5 % for a ± 1 sigma confidence level. <br/>"
   ]
  },
  {
   "cell_type": "code",
   "execution_count": 6,
   "id": "otherwise-machinery",
   "metadata": {},
   "outputs": [
    {
     "data": {
      "text/html": [
       "<div>\n",
       "<style scoped>\n",
       "    .dataframe tbody tr th:only-of-type {\n",
       "        vertical-align: middle;\n",
       "    }\n",
       "\n",
       "    .dataframe tbody tr th {\n",
       "        vertical-align: top;\n",
       "    }\n",
       "\n",
       "    .dataframe thead th {\n",
       "        text-align: right;\n",
       "    }\n",
       "</style>\n",
       "<table border=\"1\" class=\"dataframe\">\n",
       "  <thead>\n",
       "    <tr style=\"text-align: right;\">\n",
       "      <th></th>\n",
       "      <th>Fossil emissions excluding carbonation (MtC/yr)</th>\n",
       "      <th>Coal (MtC/yr)</th>\n",
       "      <th>Oil (MtC/yr)</th>\n",
       "      <th>Gas (MtC/yr)</th>\n",
       "      <th>Cement emission (MtC/yr)</th>\n",
       "      <th>Flaring (MtC/yr)</th>\n",
       "      <th>Other (MtC/yr)</th>\n",
       "      <th>Per Capita (tC/person/yr)</th>\n",
       "    </tr>\n",
       "    <tr>\n",
       "      <th>Year</th>\n",
       "      <th></th>\n",
       "      <th></th>\n",
       "      <th></th>\n",
       "      <th></th>\n",
       "      <th></th>\n",
       "      <th></th>\n",
       "      <th></th>\n",
       "      <th></th>\n",
       "    </tr>\n",
       "  </thead>\n",
       "  <tbody>\n",
       "    <tr>\n",
       "      <th>2017</th>\n",
       "      <td>9742.000000</td>\n",
       "      <td>3934.000000</td>\n",
       "      <td>3323.000000</td>\n",
       "      <td>1942.000000</td>\n",
       "      <td>403.000000</td>\n",
       "      <td>110.000000</td>\n",
       "      <td>31.000000</td>\n",
       "      <td>1.290000</td>\n",
       "    </tr>\n",
       "    <tr>\n",
       "      <th>2018</th>\n",
       "      <td>9940.000000</td>\n",
       "      <td>3990.000000</td>\n",
       "      <td>3344.000000</td>\n",
       "      <td>2044.000000</td>\n",
       "      <td>413.000000</td>\n",
       "      <td>117.000000</td>\n",
       "      <td>31.000000</td>\n",
       "      <td>1.300000</td>\n",
       "    </tr>\n",
       "    <tr>\n",
       "      <th>2019</th>\n",
       "      <td>9945.622216</td>\n",
       "      <td>3919.912017</td>\n",
       "      <td>3371.755242</td>\n",
       "      <td>2078.524517</td>\n",
       "      <td>426.790548</td>\n",
       "      <td>117.220404</td>\n",
       "      <td>31.419487</td>\n",
       "      <td>1.289384</td>\n",
       "    </tr>\n",
       "  </tbody>\n",
       "</table>\n",
       "</div>"
      ],
      "text/plain": [
       "      Fossil emissions excluding carbonation (MtC/yr)  Coal (MtC/yr)  \\\n",
       "Year                                                                   \n",
       "2017                                      9742.000000    3934.000000   \n",
       "2018                                      9940.000000    3990.000000   \n",
       "2019                                      9945.622216    3919.912017   \n",
       "\n",
       "      Oil (MtC/yr)  Gas (MtC/yr)  Cement emission (MtC/yr)  Flaring (MtC/yr)  \\\n",
       "Year                                                                           \n",
       "2017   3323.000000   1942.000000                403.000000        110.000000   \n",
       "2018   3344.000000   2044.000000                413.000000        117.000000   \n",
       "2019   3371.755242   2078.524517                426.790548        117.220404   \n",
       "\n",
       "      Other (MtC/yr)  Per Capita (tC/person/yr)  \n",
       "Year                                             \n",
       "2017       31.000000                   1.290000  \n",
       "2018       31.000000                   1.300000  \n",
       "2019       31.419487                   1.289384  "
      ]
     },
     "execution_count": 6,
     "metadata": {},
     "output_type": "execute_result"
    }
   ],
   "source": [
    "# Read file\n",
    "df_fe = pd.read_excel(xls, 'Fossil Emissions by Category',header=8)\n",
    "\n",
    "# Drop blank columns\n",
    "df_fe = df_fe.iloc[:,:9]\n",
    "\n",
    "# Rename columns\n",
    "df_fe.rename(columns={\"fossil emissions excluding carbonation\":\"Fossil emissions excluding carbonation (MtC/yr)\",\n",
    "                     \"Coal\":\"Coal (MtC/yr)\",\"Oil\":\"Oil (MtC/yr)\",\"Gas\":\"Gas (MtC/yr)\",\n",
    "                     \"Cement emission\":\"Cement emission (MtC/yr)\",\"Flaring\":\"Flaring (MtC/yr)\",\n",
    "                     \"Other\":\"Other (MtC/yr)\",\"Per Capita\":\"Per Capita (tC/person/yr)\"},inplace=True)\n",
    "\n",
    "# Change column Year to index\n",
    "df_fe.set_index(\"Year\",inplace=True)\n",
    "\n",
    "# Visual inspection\n",
    "df_fe.tail(3)"
   ]
  },
  {
   "cell_type": "markdown",
   "id": "visible-occupation",
   "metadata": {},
   "source": [
    "<h3>National level : Total</h3>"
   ]
  },
  {
   "cell_type": "markdown",
   "id": "electoral-triple",
   "metadata": {},
   "source": [
    "The GCP also includes another file that characterizes further more the fossil emissions at the country level. There are three main categories that are given here:\n",
    "<ul>\n",
    "    <li> Territorial Emissions</li>\n",
    "    <li> Consumption Emissions</li>\n",
    "    <li> Emissions Transfers</li>\n",
    "</ul>"
   ]
  },
  {
   "cell_type": "markdown",
   "id": "spare-roman",
   "metadata": {},
   "source": [
    "<h4>Territorial emission</h4>"
   ]
  },
  {
   "cell_type": "markdown",
   "id": "threaded-finland",
   "metadata": {},
   "source": [
    "Territorial Emissions is in direct correspondance with \"Fossil emissions excluding carbonation\". In fact, if one plots the value of Territorial Emission for the world as a function of year, it is exactly equal to the value of fossil emissions as a function of year (<code>see test plot below</code>)\n",
    "\n",
    "The intersting part of this dataset is that we now have a division of the emission for the different countries. In addition, it is important to note that:\n",
    "<center><b>world emission = all countries + bunker</b></center>\n",
    "\n",
    "and the dataset indeed divides the bunker emissions in a separate category (<code>see below for test of that</code>)"
   ]
  },
  {
   "cell_type": "code",
   "execution_count": 7,
   "id": "graduate-sending",
   "metadata": {},
   "outputs": [
    {
     "name": "stdout",
     "output_type": "stream",
     "text": [
      "List of excel sheets in the database: \n",
      "['Summary', 'Territorial Emissions', 'Consumption Emissions', 'Emissions Transfers', 'Country Definitions', 'Disaggregation', 'Aggregation']\n"
     ]
    }
   ],
   "source": [
    "# Import the excel project\n",
    "xls_nl = pd.ExcelFile(\"../../../data/ghg-emissions/gcp/National_Carbon_Emissions_2020v1.0.xlsx\")\n",
    "print(\"List of excel sheets in the database: \")\n",
    "print(xls_nl.sheet_names)"
   ]
  },
  {
   "cell_type": "code",
   "execution_count": 8,
   "id": "veterinary-momentum",
   "metadata": {},
   "outputs": [
    {
     "data": {
      "text/html": [
       "<div>\n",
       "<style scoped>\n",
       "    .dataframe tbody tr th:only-of-type {\n",
       "        vertical-align: middle;\n",
       "    }\n",
       "\n",
       "    .dataframe tbody tr th {\n",
       "        vertical-align: top;\n",
       "    }\n",
       "\n",
       "    .dataframe thead th {\n",
       "        text-align: right;\n",
       "    }\n",
       "</style>\n",
       "<table border=\"1\" class=\"dataframe\">\n",
       "  <thead>\n",
       "    <tr style=\"text-align: right;\">\n",
       "      <th></th>\n",
       "      <th>Afghanistan</th>\n",
       "      <th>Albania</th>\n",
       "      <th>Algeria</th>\n",
       "      <th>Andorra</th>\n",
       "      <th>Angola</th>\n",
       "      <th>Anguilla</th>\n",
       "      <th>Antigua and Barbuda</th>\n",
       "      <th>Argentina</th>\n",
       "      <th>Armenia</th>\n",
       "      <th>Aruba</th>\n",
       "      <th>...</th>\n",
       "      <th>Asia</th>\n",
       "      <th>Central America</th>\n",
       "      <th>Europe</th>\n",
       "      <th>Middle East</th>\n",
       "      <th>North America</th>\n",
       "      <th>Oceania</th>\n",
       "      <th>South America</th>\n",
       "      <th>Bunkers</th>\n",
       "      <th>Statistical Difference</th>\n",
       "      <th>World</th>\n",
       "    </tr>\n",
       "    <tr>\n",
       "      <th>Year</th>\n",
       "      <th></th>\n",
       "      <th></th>\n",
       "      <th></th>\n",
       "      <th></th>\n",
       "      <th></th>\n",
       "      <th></th>\n",
       "      <th></th>\n",
       "      <th></th>\n",
       "      <th></th>\n",
       "      <th></th>\n",
       "      <th></th>\n",
       "      <th></th>\n",
       "      <th></th>\n",
       "      <th></th>\n",
       "      <th></th>\n",
       "      <th></th>\n",
       "      <th></th>\n",
       "      <th></th>\n",
       "      <th></th>\n",
       "      <th></th>\n",
       "      <th></th>\n",
       "    </tr>\n",
       "  </thead>\n",
       "  <tbody>\n",
       "    <tr>\n",
       "      <th>2017</th>\n",
       "      <td>1.872223</td>\n",
       "      <td>1.475000</td>\n",
       "      <td>41.880011</td>\n",
       "      <td>0.127000</td>\n",
       "      <td>10.226757</td>\n",
       "      <td>0.039000</td>\n",
       "      <td>0.134000</td>\n",
       "      <td>51.150640</td>\n",
       "      <td>1.496956</td>\n",
       "      <td>0.250000</td>\n",
       "      <td>...</td>\n",
       "      <td>4582.828278</td>\n",
       "      <td>47.223160</td>\n",
       "      <td>1536.005026</td>\n",
       "      <td>706.589153</td>\n",
       "      <td>1716.230472</td>\n",
       "      <td>125.809653</td>\n",
       "      <td>307.587932</td>\n",
       "      <td>340.774054</td>\n",
       "      <td>1.193710e-12</td>\n",
       "      <td>9742.453300</td>\n",
       "    </tr>\n",
       "    <tr>\n",
       "      <th>2018</th>\n",
       "      <td>2.852802</td>\n",
       "      <td>1.474618</td>\n",
       "      <td>44.844240</td>\n",
       "      <td>0.126695</td>\n",
       "      <td>10.283462</td>\n",
       "      <td>0.040160</td>\n",
       "      <td>0.137984</td>\n",
       "      <td>50.499426</td>\n",
       "      <td>1.718505</td>\n",
       "      <td>0.257433</td>\n",
       "      <td>...</td>\n",
       "      <td>4722.435175</td>\n",
       "      <td>48.189123</td>\n",
       "      <td>1528.872721</td>\n",
       "      <td>715.337820</td>\n",
       "      <td>1763.935023</td>\n",
       "      <td>126.584241</td>\n",
       "      <td>299.395430</td>\n",
       "      <td>345.985325</td>\n",
       "      <td>6.650680e-12</td>\n",
       "      <td>9939.877649</td>\n",
       "    </tr>\n",
       "    <tr>\n",
       "      <th>2019</th>\n",
       "      <td>2.925855</td>\n",
       "      <td>1.522657</td>\n",
       "      <td>46.863275</td>\n",
       "      <td>0.128410</td>\n",
       "      <td>10.376719</td>\n",
       "      <td>0.039108</td>\n",
       "      <td>0.134372</td>\n",
       "      <td>48.837212</td>\n",
       "      <td>1.639172</td>\n",
       "      <td>0.250695</td>\n",
       "      <td>...</td>\n",
       "      <td>4800.129169</td>\n",
       "      <td>49.345678</td>\n",
       "      <td>1487.043075</td>\n",
       "      <td>726.187206</td>\n",
       "      <td>1719.552567</td>\n",
       "      <td>125.781200</td>\n",
       "      <td>296.161653</td>\n",
       "      <td>345.985325</td>\n",
       "      <td>3.012700e-12</td>\n",
       "      <td>9945.622216</td>\n",
       "    </tr>\n",
       "  </tbody>\n",
       "</table>\n",
       "<p>3 rows × 233 columns</p>\n",
       "</div>"
      ],
      "text/plain": [
       "      Afghanistan   Albania    Algeria   Andorra     Angola  Anguilla  \\\n",
       "Year                                                                    \n",
       "2017     1.872223  1.475000  41.880011  0.127000  10.226757  0.039000   \n",
       "2018     2.852802  1.474618  44.844240  0.126695  10.283462  0.040160   \n",
       "2019     2.925855  1.522657  46.863275  0.128410  10.376719  0.039108   \n",
       "\n",
       "      Antigua and Barbuda  Argentina   Armenia     Aruba  ...         Asia  \\\n",
       "Year                                                      ...                \n",
       "2017             0.134000  51.150640  1.496956  0.250000  ...  4582.828278   \n",
       "2018             0.137984  50.499426  1.718505  0.257433  ...  4722.435175   \n",
       "2019             0.134372  48.837212  1.639172  0.250695  ...  4800.129169   \n",
       "\n",
       "      Central America       Europe  Middle East  North America     Oceania  \\\n",
       "Year                                                                         \n",
       "2017        47.223160  1536.005026   706.589153    1716.230472  125.809653   \n",
       "2018        48.189123  1528.872721   715.337820    1763.935023  126.584241   \n",
       "2019        49.345678  1487.043075   726.187206    1719.552567  125.781200   \n",
       "\n",
       "      South America     Bunkers  Statistical Difference        World  \n",
       "Year                                                                  \n",
       "2017     307.587932  340.774054            1.193710e-12  9742.453300  \n",
       "2018     299.395430  345.985325            6.650680e-12  9939.877649  \n",
       "2019     296.161653  345.985325            3.012700e-12  9945.622216  \n",
       "\n",
       "[3 rows x 233 columns]"
      ]
     },
     "execution_count": 8,
     "metadata": {},
     "output_type": "execute_result"
    }
   ],
   "source": [
    "# Read dataframe\n",
    "df_te = pd.read_excel(xls_nl, 'Territorial Emissions',header=11)\n",
    "# Rename columns to year\n",
    "df_te.rename(columns={\"Unnamed: 0\":\"Year\"},inplace=True)\n",
    "# Drop unwanted columns\n",
    "df_te=df_te.iloc[:,:234]\n",
    "# Change index to year\n",
    "df_te.set_index(\"Year\",inplace=True)\n",
    "df_te.tail(3)"
   ]
  },
  {
   "cell_type": "code",
   "execution_count": 9,
   "id": "retained-light",
   "metadata": {},
   "outputs": [
    {
     "data": {
      "text/plain": [
       "<matplotlib.legend.Legend at 0x7fa36f4ea5e0>"
      ]
     },
     "execution_count": 9,
     "metadata": {},
     "output_type": "execute_result"
    },
    {
     "data": {
      "image/png": "[encoded data removed]",
      "text/plain": [
       "<Figure size 720x432 with 1 Axes>"
      ]
     },
     "metadata": {
      "needs_background": "light"
     },
     "output_type": "display_data"
    }
   ],
   "source": [
    "# Test plot \n",
    "plt.figure(figsize=(10,6))\n",
    "plt.plot(df_te[\"World\"],lw=3,label=\"world\")\n",
    "plt.plot(df_fe[\"Fossil emissions excluding carbonation (MtC/yr)\"],ls=\"--\",lw=3,label=\"Fossil emissions excluding carbonation (MtC/yr)\")\n",
    "plt.legend(fontsize=15)"
   ]
  },
  {
   "cell_type": "code",
   "execution_count": 10,
   "id": "alleged-blues",
   "metadata": {},
   "outputs": [
    {
     "name": "stdout",
     "output_type": "stream",
     "text": [
      "Sum of all countries emission in 2019 :  9599.636891251\n",
      "Bunkers emission in 2019 :  345.9853247\n",
      "World emission in 2019 :  9945.622216\n",
      "Sum all countries + bunkers: 9945.622215951\n"
     ]
    }
   ],
   "source": [
    "# Test for \n",
    "print(\"Sum of all countries emission in 2019 : \",df_te.loc[2019][:217].sum())\n",
    "print(\"Bunkers emission in 2019 : \",df_te.loc[2019][\"Bunkers\"])\n",
    "print(\"World emission in 2019 : \",df_te.loc[2019][\"World\"])\n",
    "print(\"Sum all countries + bunkers:\",df_te.loc[2019][:217].sum()+df_te.loc[2019][\"Bunkers\"])"
   ]
  },
  {
   "cell_type": "markdown",
   "id": "adverse-anthropology",
   "metadata": {},
   "source": [
    "<h4>Consumption and transfer emission</h4>"
   ]
  },
  {
   "cell_type": "markdown",
   "id": "portuguese-greensboro",
   "metadata": {},
   "source": [
    "The datasets offers also even more details on the emission between year 1990 and 2017, by dividing the territorial emission as <br/><br/>\n",
    "<center> <b>territorial = consumption + exports - import </b></center>\n",
    "<br/>\n",
    "where the exports and imports are grouped together as <b>transfer</b> emission (</code>see test below</code>)"
   ]
  },
  {
   "cell_type": "markdown",
   "id": "painted-planning",
   "metadata": {},
   "source": [
    "This classification is done by the GCP using a trade model based on trade data from GTAP."
   ]
  },
  {
   "cell_type": "code",
   "execution_count": 11,
   "id": "contained-simon",
   "metadata": {},
   "outputs": [
    {
     "data": {
      "text/html": [
       "<div>\n",
       "<style scoped>\n",
       "    .dataframe tbody tr th:only-of-type {\n",
       "        vertical-align: middle;\n",
       "    }\n",
       "\n",
       "    .dataframe tbody tr th {\n",
       "        vertical-align: top;\n",
       "    }\n",
       "\n",
       "    .dataframe thead th {\n",
       "        text-align: right;\n",
       "    }\n",
       "</style>\n",
       "<table border=\"1\" class=\"dataframe\">\n",
       "  <thead>\n",
       "    <tr style=\"text-align: right;\">\n",
       "      <th></th>\n",
       "      <th>Afghanistan</th>\n",
       "      <th>Albania</th>\n",
       "      <th>Algeria</th>\n",
       "      <th>Andorra</th>\n",
       "      <th>Angola</th>\n",
       "      <th>Anguilla</th>\n",
       "      <th>Antigua and Barbuda</th>\n",
       "      <th>Argentina</th>\n",
       "      <th>Armenia</th>\n",
       "      <th>Aruba</th>\n",
       "      <th>...</th>\n",
       "      <th>Asia</th>\n",
       "      <th>Central America</th>\n",
       "      <th>Europe</th>\n",
       "      <th>Middle East</th>\n",
       "      <th>North America</th>\n",
       "      <th>Oceania</th>\n",
       "      <th>South America</th>\n",
       "      <th>Bunkers</th>\n",
       "      <th>Statistical Difference</th>\n",
       "      <th>World</th>\n",
       "    </tr>\n",
       "    <tr>\n",
       "      <th>Year</th>\n",
       "      <th></th>\n",
       "      <th></th>\n",
       "      <th></th>\n",
       "      <th></th>\n",
       "      <th></th>\n",
       "      <th></th>\n",
       "      <th></th>\n",
       "      <th></th>\n",
       "      <th></th>\n",
       "      <th></th>\n",
       "      <th></th>\n",
       "      <th></th>\n",
       "      <th></th>\n",
       "      <th></th>\n",
       "      <th></th>\n",
       "      <th></th>\n",
       "      <th></th>\n",
       "      <th></th>\n",
       "      <th></th>\n",
       "      <th></th>\n",
       "      <th></th>\n",
       "    </tr>\n",
       "  </thead>\n",
       "  <tbody>\n",
       "    <tr>\n",
       "      <th>2017</th>\n",
       "      <td>NaN</td>\n",
       "      <td>1.688320</td>\n",
       "      <td>NaN</td>\n",
       "      <td>NaN</td>\n",
       "      <td>NaN</td>\n",
       "      <td>NaN</td>\n",
       "      <td>NaN</td>\n",
       "      <td>53.163988</td>\n",
       "      <td>1.551230</td>\n",
       "      <td>NaN</td>\n",
       "      <td>...</td>\n",
       "      <td>4274.426018</td>\n",
       "      <td>40.207572</td>\n",
       "      <td>1610.781183</td>\n",
       "      <td>625.208109</td>\n",
       "      <td>1814.323190</td>\n",
       "      <td>116.680473</td>\n",
       "      <td>330.771843</td>\n",
       "      <td>340.774054</td>\n",
       "      <td>1.193710e-12</td>\n",
       "      <td>9742.453300</td>\n",
       "    </tr>\n",
       "    <tr>\n",
       "      <th>2018</th>\n",
       "      <td>NaN</td>\n",
       "      <td>1.699824</td>\n",
       "      <td>NaN</td>\n",
       "      <td>NaN</td>\n",
       "      <td>NaN</td>\n",
       "      <td>NaN</td>\n",
       "      <td>NaN</td>\n",
       "      <td>51.191129</td>\n",
       "      <td>1.737577</td>\n",
       "      <td>NaN</td>\n",
       "      <td>...</td>\n",
       "      <td>4403.795752</td>\n",
       "      <td>40.960020</td>\n",
       "      <td>1611.509922</td>\n",
       "      <td>631.848907</td>\n",
       "      <td>1863.855055</td>\n",
       "      <td>113.976446</td>\n",
       "      <td>322.378639</td>\n",
       "      <td>345.985325</td>\n",
       "      <td>6.650680e-12</td>\n",
       "      <td>9939.877649</td>\n",
       "    </tr>\n",
       "    <tr>\n",
       "      <th>2019</th>\n",
       "      <td>NaN</td>\n",
       "      <td>NaN</td>\n",
       "      <td>NaN</td>\n",
       "      <td>NaN</td>\n",
       "      <td>NaN</td>\n",
       "      <td>NaN</td>\n",
       "      <td>NaN</td>\n",
       "      <td>NaN</td>\n",
       "      <td>NaN</td>\n",
       "      <td>NaN</td>\n",
       "      <td>...</td>\n",
       "      <td>NaN</td>\n",
       "      <td>NaN</td>\n",
       "      <td>NaN</td>\n",
       "      <td>NaN</td>\n",
       "      <td>NaN</td>\n",
       "      <td>NaN</td>\n",
       "      <td>NaN</td>\n",
       "      <td>345.985325</td>\n",
       "      <td>NaN</td>\n",
       "      <td>9945.622216</td>\n",
       "    </tr>\n",
       "  </tbody>\n",
       "</table>\n",
       "<p>3 rows × 233 columns</p>\n",
       "</div>"
      ],
      "text/plain": [
       "      Afghanistan   Albania  Algeria  Andorra  Angola  Anguilla  \\\n",
       "Year                                                              \n",
       "2017          NaN  1.688320      NaN      NaN     NaN       NaN   \n",
       "2018          NaN  1.699824      NaN      NaN     NaN       NaN   \n",
       "2019          NaN       NaN      NaN      NaN     NaN       NaN   \n",
       "\n",
       "      Antigua and Barbuda  Argentina   Armenia  Aruba  ...         Asia  \\\n",
       "Year                                                   ...                \n",
       "2017                  NaN  53.163988  1.551230    NaN  ...  4274.426018   \n",
       "2018                  NaN  51.191129  1.737577    NaN  ...  4403.795752   \n",
       "2019                  NaN        NaN       NaN    NaN  ...          NaN   \n",
       "\n",
       "      Central America       Europe  Middle East  North America     Oceania  \\\n",
       "Year                                                                         \n",
       "2017        40.207572  1610.781183   625.208109    1814.323190  116.680473   \n",
       "2018        40.960020  1611.509922   631.848907    1863.855055  113.976446   \n",
       "2019              NaN          NaN          NaN            NaN         NaN   \n",
       "\n",
       "      South America     Bunkers  Statistical Difference        World  \n",
       "Year                                                                  \n",
       "2017     330.771843  340.774054            1.193710e-12  9742.453300  \n",
       "2018     322.378639  345.985325            6.650680e-12  9939.877649  \n",
       "2019            NaN  345.985325                     NaN  9945.622216  \n",
       "\n",
       "[3 rows x 233 columns]"
      ]
     },
     "execution_count": 11,
     "metadata": {},
     "output_type": "execute_result"
    }
   ],
   "source": [
    "##### Consumption emission\n",
    "df_ce = pd.read_excel(xls_nl, 'Consumption Emissions',header=8)\n",
    "# Rename columns to year\n",
    "df_ce.rename(columns={\"Unnamed: 0\":\"Year\"},inplace=True)\n",
    "# Drop unwanted columns\n",
    "df_ce=df_ce.iloc[:,:234]\n",
    "# Change index to year\n",
    "df_ce.set_index(\"Year\",inplace=True)\n",
    "\n",
    "df_ce.tail(3)"
   ]
  },
  {
   "cell_type": "code",
   "execution_count": 12,
   "id": "juvenile-karen",
   "metadata": {},
   "outputs": [
    {
     "data": {
      "text/html": [
       "<div>\n",
       "<style scoped>\n",
       "    .dataframe tbody tr th:only-of-type {\n",
       "        vertical-align: middle;\n",
       "    }\n",
       "\n",
       "    .dataframe tbody tr th {\n",
       "        vertical-align: top;\n",
       "    }\n",
       "\n",
       "    .dataframe thead th {\n",
       "        text-align: right;\n",
       "    }\n",
       "</style>\n",
       "<table border=\"1\" class=\"dataframe\">\n",
       "  <thead>\n",
       "    <tr style=\"text-align: right;\">\n",
       "      <th></th>\n",
       "      <th>Afghanistan</th>\n",
       "      <th>Albania</th>\n",
       "      <th>Algeria</th>\n",
       "      <th>Andorra</th>\n",
       "      <th>Angola</th>\n",
       "      <th>Anguilla</th>\n",
       "      <th>Antigua and Barbuda</th>\n",
       "      <th>Argentina</th>\n",
       "      <th>Armenia</th>\n",
       "      <th>Aruba</th>\n",
       "      <th>...</th>\n",
       "      <th>Asia</th>\n",
       "      <th>Central America</th>\n",
       "      <th>Europe</th>\n",
       "      <th>Middle East</th>\n",
       "      <th>North America</th>\n",
       "      <th>Oceania</th>\n",
       "      <th>South America</th>\n",
       "      <th>Bunkers</th>\n",
       "      <th>Statistical Difference</th>\n",
       "      <th>World</th>\n",
       "    </tr>\n",
       "    <tr>\n",
       "      <th>Year</th>\n",
       "      <th></th>\n",
       "      <th></th>\n",
       "      <th></th>\n",
       "      <th></th>\n",
       "      <th></th>\n",
       "      <th></th>\n",
       "      <th></th>\n",
       "      <th></th>\n",
       "      <th></th>\n",
       "      <th></th>\n",
       "      <th></th>\n",
       "      <th></th>\n",
       "      <th></th>\n",
       "      <th></th>\n",
       "      <th></th>\n",
       "      <th></th>\n",
       "      <th></th>\n",
       "      <th></th>\n",
       "      <th></th>\n",
       "      <th></th>\n",
       "      <th></th>\n",
       "    </tr>\n",
       "  </thead>\n",
       "  <tbody>\n",
       "    <tr>\n",
       "      <th>2017</th>\n",
       "      <td>NaN</td>\n",
       "      <td>-0.213320</td>\n",
       "      <td>NaN</td>\n",
       "      <td>NaN</td>\n",
       "      <td>NaN</td>\n",
       "      <td>NaN</td>\n",
       "      <td>NaN</td>\n",
       "      <td>-2.013348</td>\n",
       "      <td>-0.054274</td>\n",
       "      <td>NaN</td>\n",
       "      <td>...</td>\n",
       "      <td>239.735472</td>\n",
       "      <td>-4.530487</td>\n",
       "      <td>-129.594812</td>\n",
       "      <td>5.937479</td>\n",
       "      <td>-98.253718</td>\n",
       "      <td>6.477485</td>\n",
       "      <td>-24.512400</td>\n",
       "      <td>0</td>\n",
       "      <td>0</td>\n",
       "      <td>0</td>\n",
       "    </tr>\n",
       "    <tr>\n",
       "      <th>2018</th>\n",
       "      <td>NaN</td>\n",
       "      <td>-0.225206</td>\n",
       "      <td>NaN</td>\n",
       "      <td>NaN</td>\n",
       "      <td>NaN</td>\n",
       "      <td>NaN</td>\n",
       "      <td>NaN</td>\n",
       "      <td>-0.691703</td>\n",
       "      <td>-0.019072</td>\n",
       "      <td>NaN</td>\n",
       "      <td>...</td>\n",
       "      <td>239.373141</td>\n",
       "      <td>-4.714551</td>\n",
       "      <td>-137.416716</td>\n",
       "      <td>7.648699</td>\n",
       "      <td>-100.081320</td>\n",
       "      <td>9.122431</td>\n",
       "      <td>-24.326942</td>\n",
       "      <td>0</td>\n",
       "      <td>0</td>\n",
       "      <td>0</td>\n",
       "    </tr>\n",
       "    <tr>\n",
       "      <th>2019</th>\n",
       "      <td>NaN</td>\n",
       "      <td>NaN</td>\n",
       "      <td>NaN</td>\n",
       "      <td>NaN</td>\n",
       "      <td>NaN</td>\n",
       "      <td>NaN</td>\n",
       "      <td>NaN</td>\n",
       "      <td>NaN</td>\n",
       "      <td>NaN</td>\n",
       "      <td>NaN</td>\n",
       "      <td>...</td>\n",
       "      <td>NaN</td>\n",
       "      <td>NaN</td>\n",
       "      <td>NaN</td>\n",
       "      <td>NaN</td>\n",
       "      <td>NaN</td>\n",
       "      <td>NaN</td>\n",
       "      <td>NaN</td>\n",
       "      <td>0</td>\n",
       "      <td>0</td>\n",
       "      <td>0</td>\n",
       "    </tr>\n",
       "  </tbody>\n",
       "</table>\n",
       "<p>3 rows × 233 columns</p>\n",
       "</div>"
      ],
      "text/plain": [
       "      Afghanistan   Albania  Algeria  Andorra  Angola  Anguilla  \\\n",
       "Year                                                              \n",
       "2017          NaN -0.213320      NaN      NaN     NaN       NaN   \n",
       "2018          NaN -0.225206      NaN      NaN     NaN       NaN   \n",
       "2019          NaN       NaN      NaN      NaN     NaN       NaN   \n",
       "\n",
       "      Antigua and Barbuda  Argentina   Armenia  Aruba  ...        Asia  \\\n",
       "Year                                                   ...               \n",
       "2017                  NaN  -2.013348 -0.054274    NaN  ...  239.735472   \n",
       "2018                  NaN  -0.691703 -0.019072    NaN  ...  239.373141   \n",
       "2019                  NaN        NaN       NaN    NaN  ...         NaN   \n",
       "\n",
       "      Central America      Europe  Middle East  North America   Oceania  \\\n",
       "Year                                                                      \n",
       "2017        -4.530487 -129.594812     5.937479     -98.253718  6.477485   \n",
       "2018        -4.714551 -137.416716     7.648699    -100.081320  9.122431   \n",
       "2019              NaN         NaN          NaN            NaN       NaN   \n",
       "\n",
       "      South America  Bunkers  Statistical Difference  World  \n",
       "Year                                                         \n",
       "2017     -24.512400        0                       0      0  \n",
       "2018     -24.326942        0                       0      0  \n",
       "2019            NaN        0                       0      0  \n",
       "\n",
       "[3 rows x 233 columns]"
      ]
     },
     "execution_count": 12,
     "metadata": {},
     "output_type": "execute_result"
    }
   ],
   "source": [
    "##### Transfer emission\n",
    "df_et = pd.read_excel(xls_nl, 'Emissions Transfers',header=8)\n",
    "# Rename columns to year\n",
    "df_et.rename(columns={\"Unnamed: 0\":\"Year\"},inplace=True)\n",
    "# Drop unwanted columns\n",
    "df_et=df_et.iloc[:,:234]\n",
    "# Change index to year\n",
    "df_et.set_index(\"Year\",inplace=True)\n",
    "\n",
    "df_et.tail(3)"
   ]
  },
  {
   "cell_type": "code",
   "execution_count": 13,
   "id": "dental-tooth",
   "metadata": {
    "scrolled": true
   },
   "outputs": [
    {
     "data": {
      "text/plain": [
       "<matplotlib.legend.Legend at 0x7fa36f43c4c0>"
      ]
     },
     "execution_count": 13,
     "metadata": {},
     "output_type": "execute_result"
    },
    {
     "data": {
      "image/png": "[encoded data removed]",
      "text/plain": [
       "<Figure size 720x432 with 1 Axes>"
      ]
     },
     "metadata": {
      "needs_background": "light"
     },
     "output_type": "display_data"
    }
   ],
   "source": [
    "# Testing that territorial = consumption + transfer\n",
    "plt.figure(figsize=(10,6))\n",
    "country=\"USA\"\n",
    "plt.plot(df_te[country],label=\"territorial\",lw=3)\n",
    "plt.plot(df_ce[country],label=\"consumption\",lw=3)\n",
    "plt.plot(df_et[country],label=\"transfer\",lw=3)\n",
    "plt.plot(df_et[country]+df_ce[country],label=\"consumption+transfer\",ls=\"--\",lw=3)\n",
    "plt.legend(fontsize=15)"
   ]
  },
  {
   "cell_type": "markdown",
   "id": "metropolitan-armor",
   "metadata": {},
   "source": [
    "<h3> National level : sector sub-division </h3>"
   ]
  },
  {
   "cell_type": "markdown",
   "id": "directed-narrative",
   "metadata": {},
   "source": [
    "The GCP also provides another csv file that details how the emissions are divided in each sub-sector for all countries.\n",
    "\n",
    "<b>Careful</b> : the value are given in MtCO2 unlike all the other datframes in this notebook. For this reason, the values are converted in MtC."
   ]
  },
  {
   "cell_type": "code",
   "execution_count": 15,
   "id": "soviet-birthday",
   "metadata": {},
   "outputs": [
    {
     "data": {
      "text/html": [
       "<div>\n",
       "<style scoped>\n",
       "    .dataframe tbody tr th:only-of-type {\n",
       "        vertical-align: middle;\n",
       "    }\n",
       "\n",
       "    .dataframe tbody tr th {\n",
       "        vertical-align: top;\n",
       "    }\n",
       "\n",
       "    .dataframe thead th {\n",
       "        text-align: right;\n",
       "    }\n",
       "</style>\n",
       "<table border=\"1\" class=\"dataframe\">\n",
       "  <thead>\n",
       "    <tr style=\"text-align: right;\">\n",
       "      <th></th>\n",
       "      <th></th>\n",
       "      <th>ISO 3166-1 alpha-3</th>\n",
       "      <th>Total</th>\n",
       "      <th>Coal</th>\n",
       "      <th>Oil</th>\n",
       "      <th>Gas</th>\n",
       "      <th>Cement</th>\n",
       "      <th>Flaring</th>\n",
       "      <th>Other</th>\n",
       "      <th>Per Capita</th>\n",
       "    </tr>\n",
       "    <tr>\n",
       "      <th>Year</th>\n",
       "      <th>Country</th>\n",
       "      <th></th>\n",
       "      <th></th>\n",
       "      <th></th>\n",
       "      <th></th>\n",
       "      <th></th>\n",
       "      <th></th>\n",
       "      <th></th>\n",
       "      <th></th>\n",
       "      <th></th>\n",
       "    </tr>\n",
       "  </thead>\n",
       "  <tbody>\n",
       "    <tr>\n",
       "      <th rowspan=\"3\" valign=\"top\">2019</th>\n",
       "      <th>Yemen</th>\n",
       "      <td>YEM</td>\n",
       "      <td>2.798867</td>\n",
       "      <td>0.092000</td>\n",
       "      <td>2.137605</td>\n",
       "      <td>0.34078</td>\n",
       "      <td>0.228481</td>\n",
       "      <td>0.0</td>\n",
       "      <td>NaN</td>\n",
       "      <td>0.095977</td>\n",
       "    </tr>\n",
       "    <tr>\n",
       "      <th>Zambia</th>\n",
       "      <td>ZMB</td>\n",
       "      <td>1.834195</td>\n",
       "      <td>0.512601</td>\n",
       "      <td>1.036221</td>\n",
       "      <td>0.00000</td>\n",
       "      <td>0.285373</td>\n",
       "      <td>0.0</td>\n",
       "      <td>NaN</td>\n",
       "      <td>0.102693</td>\n",
       "    </tr>\n",
       "    <tr>\n",
       "      <th>Zimbabwe</th>\n",
       "      <td>ZWE</td>\n",
       "      <td>2.831410</td>\n",
       "      <td>1.720523</td>\n",
       "      <td>0.952260</td>\n",
       "      <td>0.00000</td>\n",
       "      <td>0.158627</td>\n",
       "      <td>0.0</td>\n",
       "      <td>NaN</td>\n",
       "      <td>0.193330</td>\n",
       "    </tr>\n",
       "  </tbody>\n",
       "</table>\n",
       "</div>"
      ],
      "text/plain": [
       "              ISO 3166-1 alpha-3     Total      Coal       Oil      Gas  \\\n",
       "Year Country                                                              \n",
       "2019 Yemen                   YEM  2.798867  0.092000  2.137605  0.34078   \n",
       "     Zambia                  ZMB  1.834195  0.512601  1.036221  0.00000   \n",
       "     Zimbabwe                ZWE  2.831410  1.720523  0.952260  0.00000   \n",
       "\n",
       "                 Cement  Flaring  Other  Per Capita  \n",
       "Year Country                                         \n",
       "2019 Yemen     0.228481      0.0    NaN    0.095977  \n",
       "     Zambia    0.285373      0.0    NaN    0.102693  \n",
       "     Zimbabwe  0.158627      0.0    NaN    0.193330  "
      ]
     },
     "execution_count": 15,
     "metadata": {},
     "output_type": "execute_result"
    }
   ],
   "source": [
    "df_sub = pd.read_csv(\"../../../data/ghg-emissions/gcp/GCB2020v18_MtCO2_flat.csv\")\n",
    "\n",
    "# Set the dataframe structure\n",
    "df_sub.sort_values([\"Year\",\"Country\"],inplace=True)\n",
    "df_sub.set_index([\"Year\",\"Country\"],inplace=True)\n",
    "\n",
    "# Convert the MtCO2 in MtC (to be in adequation with the values from other dataset)\n",
    "df_sub[[\"Total\",\"Coal\",\"Oil\",\"Gas\",\"Cement\",\"Flaring\",\"Other\",\"Per Capita\"]] = (1.0/3.664)* df_sub[[\"Total\",\"Coal\",\"Oil\",\"Gas\",\"Cement\",\"Flaring\",\"Other\",\"Per Capita\"]]\n",
    "\n",
    "df_sub.tail(3)"
   ]
  },
  {
   "cell_type": "markdown",
   "id": "wrong-plant",
   "metadata": {},
   "source": [
    "Just as a check, we see below that the total is inded the total of each sub-categories, and correspond to the value given in the territorial emission in the previous dataframe."
   ]
  },
  {
   "cell_type": "code",
   "execution_count": 30,
   "id": "tamil-austria",
   "metadata": {},
   "outputs": [
    {
     "name": "stdout",
     "output_type": "stream",
     "text": [
      "'Total' from df_sub :  2.798866812227074\n",
      "Sum of all-sub categories from df_sub :  2.7988665393013097\n",
      "Value inside df_te :  2.798866727\n"
     ]
    }
   ],
   "source": [
    "year = 2019\n",
    "country = \"Yemen\"\n",
    "value_tot = df_sub.loc[(year,country),\"Total\"]\n",
    "value_sum = df_sub.loc[(year,country),[\"Coal\",\"Oil\",\"Gas\",\"Cement\",\"Flaring\",\"Other\"]].sum()\n",
    "value_territorial = df_te.loc[year,country]\n",
    "print(\"'Total' from df_sub : \",value_tot )\n",
    "print(\"Sum of all-sub categories from df_sub : \",value_sum )\n",
    "print(\"Value inside df_te : \",value_territorial )"
   ]
  },
  {
   "cell_type": "markdown",
   "id": "hairy-proposition",
   "metadata": {},
   "source": [
    "<h2>Land-Use Change Emissions: $E_{LUC}$</h2>"
   ]
  },
  {
   "cell_type": "markdown",
   "id": "prostate-module",
   "metadata": {},
   "source": [
    "This emission corresponds to the <b>net</b> flux of CO2 from land-use, land-use change and forestry. Some of the activities lead to emission or sinks, and the quantity here is the net flux that corresponds to emission (i.e. removing the sink). \n",
    "\n",
    "The data given here spans the period 1959-2019 and contain both <b>bookeeping</b> models and <b>dynamic global vegetation models</b> (DGVM).\n",
    "\n",
    "\n",
    "\n",
    "<b>The annual estimate is the average of the three bookeeping models</b> (BLUE,HandN2017,OSCAR). These 3 models are based on the original bookkeeping approach of Houghton (2003) that keeps track of the carbon stored in vegetation and soils before and after a land-use change.\n",
    "\n",
    "The DGVM are used to help quantify uncertainties (uncertainty of ±0.7 GtC/yr).\n",
    "\n",
    "In Table A1 of the GCP paper, they describe the presence or absence of various sources in the 3 bookeeping models and DGVM that are divided as:\n",
    "\n",
    "<ul>\n",
    "    <li>Wood harvest and forest degradation</li>\n",
    "    <li>Shifting cultivation/ Subgrid-scale transitions</li>\n",
    "    <li>Cropland harvest</li>\n",
    "    <li>Peat fires</li>\n",
    "    <li>Fire as a management tool</li>\n",
    "    <li>N fertilization</li>\n",
    "    <li>Tillage</li>\n",
    "    <li>Irrigation</li>\n",
    "    <li>Wetland drainage</li>\n",
    "    <li>Erosion</li>\n",
    "    <li>Peat drainage</li>\n",
    "    <li>Grazing and mowing harvest</li>\n",
    "    <li>Fire simulation and/or suppression</li>\n",
    "    <li>Climate and variability CO2 fertilization</li>\n",
    "    <li>Carbon-nitrogen in- teractions, including N deposition</li>\n",
    "</ul>\n",
    "    \n",
    "\n"
   ]
  },
  {
   "cell_type": "markdown",
   "id": "standard-young",
   "metadata": {},
   "source": [
    "Here, the scientific $E_{LUC}$ definition is used, and counts fluxes due to environmental changes on managed land towards $S_{LAND}$, <b>as opposed to the national greenhouse gas inventories under the UNFCCC</b>, which include them in $E_{LUC}$ and thus often report smaller land-use emissions"
   ]
  },
  {
   "cell_type": "code",
   "execution_count": null,
   "id": "coastal-colors",
   "metadata": {},
   "outputs": [],
   "source": [
    "# Read file\n",
    "df_lu = pd.read_excel(xls, 'Land-Use Change Emissions',header=28)\n",
    "\n",
    "# Drop blank columns\n",
    "df_lu.drop([df_lu.columns[i] for i in [2,6,20,24]],axis=1,inplace=True)\n",
    "df_lu = df_lu.iloc[:,:23]\n",
    "\n",
    "# Change column Year to index\n",
    "df_lu.set_index(\"Year\",inplace=True)\n",
    "\n",
    "# Create multi-level indexing on columns to reflect the differences of the models.\n",
    "columns_try=[]\n",
    "for c in df_lu.columns:\n",
    "    if c in ['H&N', 'BLUE', 'OSCAR']:\n",
    "        columns_try.append((\"Bookkeeping Models\",c))\n",
    "    elif c in ['CABLE-POP', 'CLASSIC', 'CLM5.0', 'DLEM','IBIS', 'ISAM', 'ISBA-CTRIP', 'JSBACH', 'JULES-ES', \n",
    "               'LPJ-GUESS ','LPJ ', 'LPX-Bern', 'OCNv2', 'SDGVM', 'VISIT', 'YIBs']:\n",
    "        columns_try.append((\"Individual DGVM Models\",c))\n",
    "    elif c in ['MMM (multi-model mean)', 'Model Spread (sd)']:\n",
    "        columns_try.append(('Statistics',c))\n",
    "    else:\n",
    "        columns_try.append(('GCP',c))\n",
    "df_lu.columns = pd.MultiIndex.from_tuples(columns_try)\n",
    "\n",
    "# Visual inspection\n",
    "df_lu.tail(3)"
   ]
  },
  {
   "cell_type": "code",
   "execution_count": null,
   "id": "czech-stuart",
   "metadata": {},
   "outputs": [],
   "source": [
    "# Test that GCP is indeed the average\n",
    "print(\"Mean of the 3 bookkeeping models: \",df_lu.loc[2019][(\"Bookkeeping Models\")].mean())\n",
    "print(r\"Value of E_{LUC}: \",df_lu.loc[2019][(\"GCP\",\"GCB\")])"
   ]
  },
  {
   "cell_type": "markdown",
   "id": "competent-education",
   "metadata": {},
   "source": [
    "<h2>Ocean Sink</h2>"
   ]
  },
  {
   "cell_type": "markdown",
   "id": "stopped-wednesday",
   "metadata": {},
   "source": [
    "Ocean CO2 sink (positive values represent a flux from the atmosphere to the ocean). All values in billion tonnes of carbon per year (GtC/yr), for the globe."
   ]
  },
  {
   "cell_type": "markdown",
   "id": "electrical-announcement",
   "metadata": {},
   "source": [
    "The ocean sink (uncertainty of ±0.4 GtC/yr on average) is estimated from the average of several global ocean biogeochemistry models that reproduce the observed mean ocean sink of the 1990s.  Cite as: Friedlingstein et al (2020; see summary tab)"
   ]
  },
  {
   "cell_type": "markdown",
   "id": "bound-baker",
   "metadata": {},
   "source": [
    "Note: the data products include a pre-industrial steady state source of CO2 from rivers (of about 0.61 GtC/yr) and therefore are not directly comparable with the ocean model results"
   ]
  },
  {
   "cell_type": "code",
   "execution_count": null,
   "id": "front-gates",
   "metadata": {},
   "outputs": [],
   "source": [
    "# Read data\n",
    "df_os = pd.read_excel(xls, 'Ocean Sink',header=24)\n",
    "\n",
    "# Drop blank columns\n",
    "df_os.drop([df_os.columns[i] for i in [3,13,16,24]],axis=1,inplace=True)\n",
    "df_os=df_os.iloc[:,:21]\n",
    "\n",
    "df_os.rename(columns={\"year\":\"Year\"},inplace=True)\n",
    "\n",
    "# Change column Year to index\n",
    "df_os.set_index(\"Year\",inplace=True)\n",
    "\n",
    "# Create multi-level indexing on columns to reflect the differences of the models.\n",
    "columns_try=[]\n",
    "for c in df_os.columns:\n",
    "    if c in ['CESM-ETH', 'CSIRO', 'FESOM', 'MPI','CNRM', 'PlankTOM', 'NorESM', 'Princeton', \n",
    "             'IPSL','MMM (multi-model mean)', 'Model Spread (sd)']:\n",
    "        columns_try.append((\"GOBM\",c))\n",
    "    elif c in ['MPI-SOMFFN', 'Jena-MLS','CMEMS', 'CSIR', 'Watson','mean data-products (excl. Watson.)',\n",
    "               'sd data-products (excl. Watson.)']:\n",
    "        columns_try.append((\"Data-based products\",c))\n",
    "    else:\n",
    "        columns_try.append(('GCP',c))\n",
    "df_os.columns = pd.MultiIndex.from_tuples(columns_try)\n",
    "\n",
    "\n",
    "# Visual inspection\n",
    "df_os.head(3)"
   ]
  },
  {
   "cell_type": "markdown",
   "id": "alone-stock",
   "metadata": {},
   "source": [
    "<h2>Terrestrial Sink</h2>"
   ]
  },
  {
   "cell_type": "markdown",
   "id": "excess-realtor",
   "metadata": {},
   "source": [
    "Terrestrial CO2 sink (positive values represent a flux from the atmosphere to the land). All values in billion tonnes of carbon per year (GtC/yr), for the globe. "
   ]
  },
  {
   "cell_type": "markdown",
   "id": "alleged-mounting",
   "metadata": {},
   "source": [
    "Methods: The terrestrial sink (uncertainty of ±0.9 GtC/yr on average) is estimated from the average of several Dynamic Global Vegetation Models (DGVMs) that reproduce the observed mean total land uptake of the 1990s.  Cite as: Friedlingstein et al (2020; see summary tab)"
   ]
  },
  {
   "cell_type": "code",
   "execution_count": null,
   "id": "cross-antarctica",
   "metadata": {},
   "outputs": [],
   "source": [
    "# Read data\n",
    "df_ts = pd.read_excel(xls, 'Terrestrial Sink',header=24)\n",
    "\n",
    "# Drop blank columns\n",
    "df_ts.drop([df_ts.columns[i] for i in [2,20]],axis=1,inplace=True)\n",
    "df_ts=df_ts.iloc[:,:21]\n",
    "\n",
    "# Change column Year to index\n",
    "df_ts.set_index(\"Year\",inplace=True)\n",
    "\n",
    "# Create multi-level indexing on columns to reflect the differences of the models.\n",
    "columns_try=[]\n",
    "for c in df_ts.columns:\n",
    "    if c in ['CABLE-POP', 'CLASSIC', 'CLM5.0', 'DLEM', 'IBIS', 'ISAM','ISBA-CTRIP', 'JSBACH', 'JULES-ES', \n",
    "             'LPJ-GUESS ', 'LPJ ', 'LPX-Bern','OCNv2', 'ORCHIDEE-v3', 'SDGVM', 'VISIT', 'YIBs',\n",
    "             'MMM (multi-model mean)', 'Model Spread (sd)']:\n",
    "        columns_try.append((\"DGVM models\",c))\n",
    "    else:\n",
    "        columns_try.append(('GCP',c))\n",
    "df_ts.columns = pd.MultiIndex.from_tuples(columns_try)\n",
    "\n",
    "# Visual inspection\n",
    "df_ts.head(3)"
   ]
  },
  {
   "cell_type": "markdown",
   "id": "written-mounting",
   "metadata": {},
   "source": [
    "<h2>Cement Carbonation Sink</h2>"
   ]
  },
  {
   "cell_type": "markdown",
   "id": "successful-killing",
   "metadata": {},
   "source": [
    "Cement Carbonation sink (positive values represent a flux from the atmosphere to the land). All values in million tonnes of carbon per year (MtC/yr)."
   ]
  },
  {
   "cell_type": "markdown",
   "id": "corresponding-parks",
   "metadata": {},
   "source": [
    "Methods: Full details of the method are described in Friedlingstein et al (2020)."
   ]
  },
  {
   "cell_type": "code",
   "execution_count": null,
   "id": "exciting-aruba",
   "metadata": {},
   "outputs": [],
   "source": [
    "# Read data\n",
    "df_ccs = pd.read_excel(xls, 'Cement Carbonation Sink',header=9)\n",
    "\n",
    "# Drop blank columns\n",
    "df_ccs.drop([df_ccs.columns[i] for i in [2]],axis=1,inplace=True)\n",
    "df_ccs=df_ccs.iloc[:,:4]\n",
    "\n",
    "# Change column Year to index\n",
    "df_ccs.set_index(\"Year\",inplace=True)\n",
    "\n",
    "# Visual inspection\n",
    "df_ccs.head(3)"
   ]
  },
  {
   "cell_type": "markdown",
   "id": "daily-delight",
   "metadata": {},
   "source": [
    "<h2>Historical Budget</h2>"
   ]
  },
  {
   "cell_type": "markdown",
   "id": "consecutive-richardson",
   "metadata": {},
   "source": [
    "There is also a historical budget, where more past years are available. But this is not very interesting for us, as all the information for recent years are common with the ones in the global carbon budget sheet."
   ]
  },
  {
   "cell_type": "code",
   "execution_count": 34,
   "id": "mediterranean-catering",
   "metadata": {},
   "outputs": [
    {
     "data": {
      "text/html": [
       "<div>\n",
       "<style scoped>\n",
       "    .dataframe tbody tr th:only-of-type {\n",
       "        vertical-align: middle;\n",
       "    }\n",
       "\n",
       "    .dataframe tbody tr th {\n",
       "        vertical-align: top;\n",
       "    }\n",
       "\n",
       "    .dataframe thead th {\n",
       "        text-align: right;\n",
       "    }\n",
       "</style>\n",
       "<table border=\"1\" class=\"dataframe\">\n",
       "  <thead>\n",
       "    <tr style=\"text-align: right;\">\n",
       "      <th></th>\n",
       "      <th>Year</th>\n",
       "      <th>fossil emissions excluding carbonation</th>\n",
       "      <th>land-use change emissions</th>\n",
       "      <th>atmospheric growth</th>\n",
       "      <th>ocean sink</th>\n",
       "      <th>land sink</th>\n",
       "      <th>cement carbonation sink</th>\n",
       "      <th>budget imbalance</th>\n",
       "      <th>Unnamed: 8</th>\n",
       "      <th>Unnamed: 9</th>\n",
       "      <th>...</th>\n",
       "      <th>Unnamed: 17</th>\n",
       "      <th>Unnamed: 18</th>\n",
       "      <th>Unnamed: 19</th>\n",
       "      <th>Unnamed: 20</th>\n",
       "      <th>Unnamed: 21</th>\n",
       "      <th>Unnamed: 22</th>\n",
       "      <th>Unnamed: 23</th>\n",
       "      <th>Unnamed: 24</th>\n",
       "      <th>Unnamed: 25</th>\n",
       "      <th>Unnamed: 26</th>\n",
       "    </tr>\n",
       "  </thead>\n",
       "  <tbody>\n",
       "    <tr>\n",
       "      <th>0</th>\n",
       "      <td>1750</td>\n",
       "      <td>0.002552</td>\n",
       "      <td>NaN</td>\n",
       "      <td>-0.077592</td>\n",
       "      <td>NaN</td>\n",
       "      <td>0.173773</td>\n",
       "      <td>NaN</td>\n",
       "      <td>NaN</td>\n",
       "      <td>NaN</td>\n",
       "      <td>NaN</td>\n",
       "      <td>...</td>\n",
       "      <td>NaN</td>\n",
       "      <td>NaN</td>\n",
       "      <td>NaN</td>\n",
       "      <td>NaN</td>\n",
       "      <td>NaN</td>\n",
       "      <td>NaN</td>\n",
       "      <td>NaN</td>\n",
       "      <td>NaN</td>\n",
       "      <td>NaN</td>\n",
       "      <td>NaN</td>\n",
       "    </tr>\n",
       "    <tr>\n",
       "      <th>1</th>\n",
       "      <td>1751</td>\n",
       "      <td>0.002552</td>\n",
       "      <td>NaN</td>\n",
       "      <td>-0.073988</td>\n",
       "      <td>NaN</td>\n",
       "      <td>-0.452640</td>\n",
       "      <td>NaN</td>\n",
       "      <td>NaN</td>\n",
       "      <td>NaN</td>\n",
       "      <td>NaN</td>\n",
       "      <td>...</td>\n",
       "      <td>NaN</td>\n",
       "      <td>NaN</td>\n",
       "      <td>NaN</td>\n",
       "      <td>NaN</td>\n",
       "      <td>NaN</td>\n",
       "      <td>NaN</td>\n",
       "      <td>NaN</td>\n",
       "      <td>NaN</td>\n",
       "      <td>NaN</td>\n",
       "      <td>NaN</td>\n",
       "    </tr>\n",
       "    <tr>\n",
       "      <th>2</th>\n",
       "      <td>1752</td>\n",
       "      <td>0.002553</td>\n",
       "      <td>NaN</td>\n",
       "      <td>-0.070596</td>\n",
       "      <td>NaN</td>\n",
       "      <td>-0.280658</td>\n",
       "      <td>NaN</td>\n",
       "      <td>NaN</td>\n",
       "      <td>NaN</td>\n",
       "      <td>NaN</td>\n",
       "      <td>...</td>\n",
       "      <td>NaN</td>\n",
       "      <td>NaN</td>\n",
       "      <td>NaN</td>\n",
       "      <td>NaN</td>\n",
       "      <td>NaN</td>\n",
       "      <td>NaN</td>\n",
       "      <td>NaN</td>\n",
       "      <td>NaN</td>\n",
       "      <td>NaN</td>\n",
       "      <td>NaN</td>\n",
       "    </tr>\n",
       "  </tbody>\n",
       "</table>\n",
       "<p>3 rows × 27 columns</p>\n",
       "</div>"
      ],
      "text/plain": [
       "   Year fossil emissions excluding carbonation land-use change emissions  \\\n",
       "0  1750                               0.002552                       NaN   \n",
       "1  1751                               0.002552                       NaN   \n",
       "2  1752                               0.002553                       NaN   \n",
       "\n",
       "  atmospheric growth  ocean sink  land sink  cement carbonation sink  \\\n",
       "0          -0.077592         NaN   0.173773                      NaN   \n",
       "1          -0.073988         NaN  -0.452640                      NaN   \n",
       "2          -0.070596         NaN  -0.280658                      NaN   \n",
       "\n",
       "   budget imbalance  Unnamed: 8  Unnamed: 9  ...  Unnamed: 17  Unnamed: 18  \\\n",
       "0               NaN         NaN         NaN  ...          NaN          NaN   \n",
       "1               NaN         NaN         NaN  ...          NaN          NaN   \n",
       "2               NaN         NaN         NaN  ...          NaN          NaN   \n",
       "\n",
       "   Unnamed: 19  Unnamed: 20  Unnamed: 21  Unnamed: 22  Unnamed: 23  \\\n",
       "0          NaN          NaN          NaN          NaN          NaN   \n",
       "1          NaN          NaN          NaN          NaN          NaN   \n",
       "2          NaN          NaN          NaN          NaN          NaN   \n",
       "\n",
       "   Unnamed: 24  Unnamed: 25  Unnamed: 26  \n",
       "0          NaN          NaN          NaN  \n",
       "1          NaN          NaN          NaN  \n",
       "2          NaN          NaN          NaN  \n",
       "\n",
       "[3 rows x 27 columns]"
      ]
     },
     "execution_count": 34,
     "metadata": {},
     "output_type": "execute_result"
    }
   ],
   "source": [
    "df_his = pd.read_excel(xls, 'Historical Budget',header=15)\n",
    "df_his.head(3)"
   ]
  }
 ],
 "metadata": {
  "kernelspec": {
   "display_name": "Python 3",
   "language": "python",
   "name": "python3"
  },
  "language_info": {
   "codemirror_mode": {
    "name": "ipython",
    "version": 3
   },
   "file_extension": ".py",
   "mimetype": "text/x-python",
   "name": "python",
   "nbconvert_exporter": "python",
   "pygments_lexer": "ipython3",
   "version": "3.9.2"
  }
 },
 "nbformat": 4,
 "nbformat_minor": 5
}
